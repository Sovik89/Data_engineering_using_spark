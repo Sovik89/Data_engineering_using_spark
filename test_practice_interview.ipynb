{
 "cells": [
  {
   "cell_type": "code",
   "execution_count": 1,
   "metadata": {},
   "outputs": [
    {
     "name": "stderr",
     "output_type": "stream",
     "text": [
      "Setting default log level to \"WARN\".\n",
      "To adjust logging level use sc.setLogLevel(newLevel). For SparkR, use setLogLevel(newLevel).\n",
      "24/05/25 11:51:35 INFO SparkEnv: Registering MapOutputTracker\n",
      "24/05/25 11:51:35 INFO SparkEnv: Registering BlockManagerMaster\n",
      "24/05/25 11:51:35 INFO SparkEnv: Registering BlockManagerMasterHeartbeat\n",
      "24/05/25 11:51:35 INFO SparkEnv: Registering OutputCommitCoordinator\n"
     ]
    }
   ],
   "source": [
    "from pyspark.sql import SparkSession\n",
    "from pyspark.sql.functions import *\n",
    "\n",
    "spark=SparkSession.\\\n",
    "    builder.\\\n",
    "        appName(\"Practice 1\").\\\n",
    "            getOrCreate()\n",
    "            "
   ]
  },
  {
   "cell_type": "code",
   "execution_count": 3,
   "metadata": {},
   "outputs": [
    {
     "name": "stderr",
     "output_type": "stream",
     "text": [
      "                                                                                \r"
     ]
    }
   ],
   "source": [
    "flight_df=spark.read.format(\"csv\").\\\n",
    "    option(\"mode\",\"failfast\").\\\n",
    "        option(\"inferschema\",\"true\").\\\n",
    "            option(\"header\",\"true\").\\\n",
    "                load(\"/user/sovik/retail_test/2010-summary.csv\")"
   ]
  },
  {
   "cell_type": "code",
   "execution_count": 4,
   "metadata": {},
   "outputs": [
    {
     "name": "stdout",
     "output_type": "stream",
     "text": [
      "+--------------------+--------------------+------+\n",
      "|   DEST_COUNTRY_NAME| ORIGIN_COUNTRY_NAME| count|\n",
      "+--------------------+--------------------+------+\n",
      "|       United States|             Romania|     1|\n",
      "|       United States|             Ireland|   264|\n",
      "|       United States|               India|    69|\n",
      "|               Egypt|       United States|    24|\n",
      "|   Equatorial Guinea|       United States|     1|\n",
      "|       United States|           Singapore|    25|\n",
      "|       United States|             Grenada|    54|\n",
      "|          Costa Rica|       United States|   477|\n",
      "|             Senegal|       United States|    29|\n",
      "|       United States|    Marshall Islands|    44|\n",
      "|              Guyana|       United States|    17|\n",
      "|       United States|        Sint Maarten|    53|\n",
      "|               Malta|       United States|     1|\n",
      "|             Bolivia|       United States|    46|\n",
      "|            Anguilla|       United States|    21|\n",
      "|Turks and Caicos ...|       United States|   136|\n",
      "|       United States|         Afghanistan|     2|\n",
      "|Saint Vincent and...|       United States|     1|\n",
      "|               Italy|       United States|   390|\n",
      "|       United States|              Russia|   156|\n",
      "|       United States|Federated States ...|    48|\n",
      "|            Pakistan|       United States|     9|\n",
      "|       United States|         Netherlands|   570|\n",
      "|             Iceland|       United States|   118|\n",
      "|    Marshall Islands|       United States|    77|\n",
      "|          Luxembourg|       United States|    91|\n",
      "|            Honduras|       United States|   391|\n",
      "|         The Bahamas|       United States|   903|\n",
      "|         El Salvador|       United States|   519|\n",
      "|       United States|             Senegal|    46|\n",
      "|               Samoa|       United States|    28|\n",
      "|       United States|              Angola|    18|\n",
      "|          Kazakhstan|       United States|     3|\n",
      "|         Switzerland|       United States|   315|\n",
      "|       United States|            Anguilla|    20|\n",
      "|        Sint Maarten|       United States|    61|\n",
      "|           Hong Kong|       United States|   252|\n",
      "| Trinidad and Tobago|       United States|   187|\n",
      "|              Latvia|       United States|    12|\n",
      "|       United States|             Ecuador|   345|\n",
      "|            Slovakia|       United States|     1|\n",
      "|            Suriname|       United States|    12|\n",
      "|              Mexico|       United States|  6200|\n",
      "|       United States|              Cyprus|     1|\n",
      "|             Ecuador|       United States|   272|\n",
      "|       United States|Bosnia and Herzeg...|     1|\n",
      "|       United States|            Portugal|   104|\n",
      "|       United States|          Costa Rica|   501|\n",
      "|       United States|           Guatemala|   333|\n",
      "|       United States|            Suriname|    13|\n",
      "|            Colombia|       United States|   785|\n",
      "|       United States|          Cape Verde|    18|\n",
      "|       United States|             Jamaica|   757|\n",
      "|       United States|            Malaysia|     3|\n",
      "|              Norway|       United States|    29|\n",
      "|       United States|             Morocco|    16|\n",
      "|            Thailand|       United States|    16|\n",
      "|           Venezuela|       United States|   377|\n",
      "|       United States|               Palau|    30|\n",
      "|       United States|               Samoa|    28|\n",
      "|       United States|             Algeria|     1|\n",
      "|       United States|           Venezuela|   341|\n",
      "|              Panama|       United States|   355|\n",
      "|       United States|             Finland|    20|\n",
      "|       United States|               Chile|   176|\n",
      "|             Morocco|       United States|    16|\n",
      "|       United States|              Greece|    61|\n",
      "| Antigua and Barbuda|       United States|   123|\n",
      "|          Azerbaijan|       United States|     1|\n",
      "|       United States|         The Bahamas|   959|\n",
      "|         New Zealand|       United States|    86|\n",
      "|             Liberia|       United States|     1|\n",
      "|       United States|           Hong Kong|   293|\n",
      "|             Hungary|       United States|    14|\n",
      "|       United States|               China|   505|\n",
      "|       United States|             Vietnam|     1|\n",
      "|              Sweden|       United States|    65|\n",
      "|       United States|              Kuwait|    25|\n",
      "|       United States|  Dominican Republic|  1150|\n",
      "|       United States|               Egypt|    25|\n",
      "|              Israel|       United States|   117|\n",
      "|       United States|       United States|348113|\n",
      "|       United States|          Luxembourg|    90|\n",
      "|            Ethiopia|       United States|    12|\n",
      "|       United States|              Poland|    61|\n",
      "|          Martinique|       United States|    23|\n",
      "|    Saint Barthelemy|       United States|    28|\n",
      "|       United States|    Saint Barthelemy|    29|\n",
      "|       United States|              Turkey|    87|\n",
      "|            Barbados|       United States|   130|\n",
      "|       United States|             Estonia|     1|\n",
      "|       United States|          Azerbaijan|     1|\n",
      "|             Germany|       United States|  1392|\n",
      "|          Kyrgyzstan|       United States|     2|\n",
      "|       United States|         South Korea|   621|\n",
      "|       United States|         El Salvador|   464|\n",
      "|             Ireland|       United States|   231|\n",
      "|       United States|             Hungary|    15|\n",
      "|       United States|              Serbia|     1|\n",
      "|            Malaysia|       United States|     1|\n",
      "+--------------------+--------------------+------+\n",
      "only showing top 100 rows\n",
      "\n"
     ]
    }
   ],
   "source": [
    "flight_df.show(100)"
   ]
  },
  {
   "cell_type": "code",
   "execution_count": 5,
   "metadata": {},
   "outputs": [
    {
     "name": "stdout",
     "output_type": "stream",
     "text": [
      "root\n",
      " |-- DEST_COUNTRY_NAME: string (nullable = true)\n",
      " |-- ORIGIN_COUNTRY_NAME: string (nullable = true)\n",
      " |-- count: integer (nullable = true)\n",
      "\n"
     ]
    }
   ],
   "source": [
    "flight_df.printSchema()"
   ]
  },
  {
   "cell_type": "code",
   "execution_count": 7,
   "metadata": {},
   "outputs": [],
   "source": [
    "flight_df_schema=flight_df.schema"
   ]
  },
  {
   "cell_type": "code",
   "execution_count": 9,
   "metadata": {},
   "outputs": [
    {
     "data": {
      "text/plain": [
       "StructType([StructField('DEST_COUNTRY_NAME', StringType(), True), StructField('ORIGIN_COUNTRY_NAME', StringType(), True), StructField('count', IntegerType(), True)])"
      ]
     },
     "metadata": {},
     "output_type": "display_data"
    }
   ],
   "source": [
    "display(flight_df_schema)"
   ]
  },
  {
   "cell_type": "code",
   "execution_count": 15,
   "metadata": {},
   "outputs": [],
   "source": [
    "from pyspark.sql.types import StructType,StructField,StringType,IntegerType"
   ]
  },
  {
   "cell_type": "code",
   "execution_count": 11,
   "metadata": {},
   "outputs": [],
   "source": [
    "list=[(1,\"Sovik\",35),(2,\"Gerona\",45),(3,\"Sambhu\",21)]"
   ]
  },
  {
   "cell_type": "code",
   "execution_count": 16,
   "metadata": {},
   "outputs": [],
   "source": [
    "schemas=StructType([StructField(\"ID\",IntegerType(),False),\n",
    "                          StructField(\"Name\",StringType(),False),\n",
    "                          StructField(\"Age\",IntegerType(),False)])\n",
    "\n"
   ]
  },
  {
   "cell_type": "code",
   "execution_count": 18,
   "metadata": {},
   "outputs": [],
   "source": [
    "sample_df=spark.createDataFrame(list,schemas)"
   ]
  },
  {
   "cell_type": "code",
   "execution_count": 19,
   "metadata": {},
   "outputs": [
    {
     "name": "stdout",
     "output_type": "stream",
     "text": [
      "root\n",
      " |-- ID: integer (nullable = false)\n",
      " |-- Name: string (nullable = false)\n",
      " |-- Age: integer (nullable = false)\n",
      "\n"
     ]
    }
   ],
   "source": [
    "sample_df.printSchema()"
   ]
  },
  {
   "cell_type": "code",
   "execution_count": 48,
   "metadata": {},
   "outputs": [],
   "source": [
    "new_schema=StructType([StructField(\"ID\",IntegerType(),True),\n",
    "                          StructField(\"Name\",StringType(),True),\n",
    "                          StructField(\"Age\",IntegerType(),True),\n",
    "                          StructField(\"_corrupt_records\",StringType(),True)])"
   ]
  },
  {
   "cell_type": "code",
   "execution_count": 37,
   "metadata": {},
   "outputs": [],
   "source": [
    "sample_df_new=spark.createDataFrame(sample_df.rdd,new_schema)"
   ]
  },
  {
   "cell_type": "code",
   "execution_count": 38,
   "metadata": {},
   "outputs": [
    {
     "name": "stdout",
     "output_type": "stream",
     "text": [
      "root\n",
      " |-- ID: integer (nullable = false)\n",
      " |-- Name: string (nullable = false)\n",
      " |-- Age: integer (nullable = true)\n",
      " |-- __corrupt_fields: string (nullable = true)\n",
      "\n"
     ]
    }
   ],
   "source": [
    "sample_df_new.printSchema()"
   ]
  },
  {
   "cell_type": "code",
   "execution_count": 52,
   "metadata": {},
   "outputs": [],
   "source": [
    "permissive_df=spark.read.\\\n",
    "    format(\"csv\").\\\n",
    "            option(\"inferschema\",\"true\").\\\n",
    "            option(\"header\",\"true\").\\\n",
    "            option(\"mode\",\"PERMISSIVE\").\\\n",
    "            schema(new_schema).\\\n",
    "            load(\"/user/sovik/retail_test/document_v2.csv\")"
   ]
  },
  {
   "cell_type": "code",
   "execution_count": null,
   "metadata": {},
   "outputs": [],
   "source": []
  },
  {
   "cell_type": "code",
   "execution_count": 53,
   "metadata": {},
   "outputs": [
    {
     "name": "stdout",
     "output_type": "stream",
     "text": [
      "+---+------+----+----------------+\n",
      "| ID|  Name| Age|_corrupt_records|\n",
      "+---+------+----+----------------+\n",
      "|  2|Gerona|  45|            NULL|\n",
      "|  3|Sambhu|  21|            NULL|\n",
      "|  4|jerome|NULL|              25|\n",
      "|  5|  NULL|  25|            NULL|\n",
      "|  6|Robert|  65|            NULL|\n",
      "+---+------+----+----------------+\n",
      "\n"
     ]
    }
   ],
   "source": [
    "permissive_df.show()"
   ]
  },
  {
   "cell_type": "code",
   "execution_count": 54,
   "metadata": {},
   "outputs": [
    {
     "name": "stdout",
     "output_type": "stream",
     "text": [
      "+---+------+----+----------------+\n",
      "|ID |Name  |Age |_corrupt_records|\n",
      "+---+------+----+----------------+\n",
      "|2  |Gerona|45  |NULL            |\n",
      "|3  |Sambhu|21  |NULL            |\n",
      "|4  |jerome|NULL|25              |\n",
      "|5  |NULL  |25  |NULL            |\n",
      "|6  |Robert|65  |NULL            |\n",
      "+---+------+----+----------------+\n",
      "\n",
      "+---+------+----+----------------+\n",
      "|ID |Name  |Age |_corrupt_records|\n",
      "+---+------+----+----------------+\n",
      "|4  |jerome|NULL|25              |\n",
      "+---+------+----+----------------+\n",
      "\n",
      "+---+------+---+----------------+\n",
      "|ID |Name  |Age|_corrupt_records|\n",
      "+---+------+---+----------------+\n",
      "|2  |Gerona|45 |NULL            |\n",
      "|3  |Sambhu|21 |NULL            |\n",
      "|5  |NULL  |25 |NULL            |\n",
      "|6  |Robert|65 |NULL            |\n",
      "+---+------+---+----------------+\n",
      "\n"
     ]
    }
   ],
   "source": [
    "new_schema = StructType([\n",
    "    StructField(\"ID\", IntegerType(), True),\n",
    "    StructField(\"Name\", StringType(), True),\n",
    "    StructField(\"Age\", IntegerType(), True),\n",
    "    StructField(\"_corrupt_records\", StringType(), True)\n",
    "])\n",
    "\n",
    "# Read the CSV file with PERMISSIVE mode\n",
    "permissive_df = spark.read \\\n",
    "    .format(\"csv\") \\\n",
    "    .option(\"inferSchema\", \"true\") \\\n",
    "    .option(\"header\", \"true\") \\\n",
    "    .option(\"mode\", \"PERMISSIVE\") \\\n",
    "    .schema(new_schema) \\\n",
    "    .load(\"/user/sovik/retail_test/document_v2.csv\")\n",
    "\n",
    "# Show the DataFrame\n",
    "permissive_df.show(truncate=False)\n",
    "\n",
    "# Filter and show only corrupt records\n",
    "corrupt_records_df = permissive_df.filter(permissive_df[\"_corrupt_records\"].isNotNull())\n",
    "corrupt_records_df.show(truncate=False)\n",
    "\n",
    "# Optionally, show valid records as well\n",
    "valid_records_df = permissive_df.filter(permissive_df[\"_corrupt_records\"].isNull())\n",
    "valid_records_df.show(truncate=False)"
   ]
  },
  {
   "cell_type": "code",
   "execution_count": 2,
   "metadata": {},
   "outputs": [],
   "source": [
    "spark.stop()"
   ]
  }
 ],
 "metadata": {
  "kernelspec": {
   "display_name": "Python 3",
   "language": "python",
   "name": "python3"
  },
  "language_info": {
   "codemirror_mode": {
    "name": "ipython",
    "version": 3
   },
   "file_extension": ".py",
   "mimetype": "text/x-python",
   "name": "python",
   "nbconvert_exporter": "python",
   "pygments_lexer": "ipython3",
   "version": "3.11.9"
  }
 },
 "nbformat": 4,
 "nbformat_minor": 2
}
