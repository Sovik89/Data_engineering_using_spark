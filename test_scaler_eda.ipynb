{
 "cells": [
  {
   "cell_type": "code",
   "execution_count": 1,
   "metadata": {},
   "outputs": [],
   "source": [
    "from pyspark.sql import SparkSession,Window\n",
    "from pyspark.sql.functions import *\n",
    "from pyspark.sql.types import *\n",
    "import json"
   ]
  },
  {
   "cell_type": "code",
   "execution_count": 2,
   "metadata": {},
   "outputs": [
    {
     "name": "stderr",
     "output_type": "stream",
     "text": [
      "Setting default log level to \"WARN\".\n",
      "To adjust logging level use sc.setLogLevel(newLevel). For SparkR, use setLogLevel(newLevel).\n",
      "24/07/21 03:22:14 INFO SparkEnv: Registering MapOutputTracker\n",
      "24/07/21 03:22:14 INFO SparkEnv: Registering BlockManagerMaster\n",
      "24/07/21 03:22:14 INFO SparkEnv: Registering BlockManagerMasterHeartbeat\n",
      "24/07/21 03:22:14 INFO SparkEnv: Registering OutputCommitCoordinator\n"
     ]
    }
   ],
   "source": [
    "spark=SparkSession.builder\\\n",
    "    .appName(\"Scaler EDA\").\\\n",
    "        getOrCreate()"
   ]
  },
  {
   "cell_type": "code",
   "execution_count": 9,
   "metadata": {},
   "outputs": [
    {
     "name": "stderr",
     "output_type": "stream",
     "text": [
      "                                                                                \r"
     ]
    }
   ],
   "source": [
    "df=spark.read.csv(path=\"/user/sovik/target_data.csv\",header=True,inferSchema=True)"
   ]
  },
  {
   "cell_type": "code",
   "execution_count": 48,
   "metadata": {},
   "outputs": [
    {
     "name": "stdout",
     "output_type": "stream",
     "text": [
      "+---+------------+--------------------+-------------------+---------------+------------------------+-------------------+-----------------------------+-------------------+--------------+------------------------+------------+\n",
      "| Id|order_status|order_products_value|order_freight_value|order_items_qty|order_purchase_timestamp|   order_aproved_at|order_delivered_customer_date|      customer_city|customer_state|customer_zip_code_prefix|review_score|\n",
      "+---+------------+--------------------+-------------------+---------------+------------------------+-------------------+-----------------------------+-------------------+--------------+------------------------+------------+\n",
      "|  1|   delivered|                79.0|               17.8|              1|     2017-10-02 10:56:00|2017-10-02 11:07:00|          2017-10-10 21:25:00|           Luziania|            GO|                     728|           5|\n",
      "|  2|   delivered|               119.9|              27.16|              1|     2018-07-24 20:41:00|2018-07-26 03:24:00|          2018-08-07 15:27:00|          Joinville|            SC|                     892|           5|\n",
      "|  3|   delivered|              519.99|              41.69|              1|     2018-08-08 08:38:00|2018-08-08 08:55:00|          2018-08-17 18:06:00|              Serra|            ES|                     291|           1|\n",
      "|  4|   delivered|                29.5|              17.92|              1|     2017-11-18 19:28:00|2017-11-18 19:45:00|          2017-12-02 00:28:00|     RIO DE JANEIRO|            RJ|                     222|           4|\n",
      "|  5|   delivered|               26.77|              23.11|              1|     2018-02-13 21:18:00|2018-02-13 22:20:00|          2018-02-16 18:17:00|          Sao Paulo|            SP|                      40|           5|\n",
      "|  6|   delivered|               419.9|              23.02|              1|     2017-07-09 21:57:00|2017-07-09 22:10:00|          2017-07-26 10:57:00|       Santa Adelia|            SP|                     159|           5|\n",
      "|  7|   delivered|                65.0|              16.21|              1|     2017-04-11 12:22:00|2017-04-13 13:25:00|          2017-04-13 13:25:00|           Varginha|            MG|                     370|           5|\n",
      "|  8|   delivered|               29.99|              19.82|              1|     2017-05-16 13:10:00|2017-05-16 13:22:00|          2017-05-26 12:55:00|          Sao Paulo|            SP|                      48|           4|\n",
      "|  9|   delivered|               59.99|              51.14|              1|     2017-01-23 18:29:00|2017-01-25 02:50:00|          2017-02-02 14:08:00|            Carajas|            PA|                     685|           5|\n",
      "| 10|   delivered|               56.99|              16.13|              1|     2017-07-29 11:55:00|2017-07-29 12:05:00|          2017-08-16 17:14:00|            Resende|            RJ|                     275|           5|\n",
      "| 11|   delivered|               599.0|              15.69|              1|     2017-05-16 19:41:00|2017-05-16 19:50:00|          2017-05-29 11:18:00|      Guaratingueta|            SP|                     125|           4|\n",
      "| 12|   delivered|                62.0|              16.19|              1|     2017-07-13 19:58:00|2017-07-13 20:10:00|          2017-07-19 14:04:00|            Tijucas|            SC|                     882|           4|\n",
      "| 13|   delivered|               250.0|              35.02|              1|     2018-06-07 10:06:00|2018-06-09 03:13:00|          2018-06-19 12:05:00|           Mirassol|            SP|                     151|           1|\n",
      "| 14|   delivered|                69.9|              12.93|              1|     2018-07-25 17:44:00|2018-07-25 17:55:00|          2018-07-30 15:52:00|          SAO PAULO|            SP|                      82|           4|\n",
      "| 15|   delivered|               250.0|               16.5|              1|     2018-03-01 14:14:00|2018-03-01 15:10:00|          2018-03-12 23:36:00|               Bage|            RS|                     964|           5|\n",
      "| 16|   delivered|                79.9|               7.82|              1|     2018-06-07 19:03:00|2018-06-12 23:31:00|          2018-06-21 15:34:00|            Cubatao|            SP|                     115|           3|\n",
      "| 17|   delivered|                32.0|              19.41|              1|     2018-01-02 19:00:00|2018-01-02 19:09:00|          2018-01-20 01:38:00|          Jaraguari|            MS|                     794|           4|\n",
      "| 18|   delivered|               287.7|              15.37|              1|     2017-12-26 23:41:00|2017-12-26 23:50:00|          2018-01-08 22:36:00|Presidente Prudente|            SP|                     190|           5|\n",
      "| 19|   delivered|               59.99|              15.18|              1|     2017-11-21 00:03:00|2017-11-21 00:14:00|          2017-11-27 18:28:00|   Cidade Ocidental|            GO|                     728|           3|\n",
      "| 20|   delivered|              1200.0|              60.76|              1|     2017-10-26 15:54:00|2017-10-26 16:08:00|          2017-11-08 22:22:00|Sao Lourenco do Sul|            RS|                     961|           4|\n",
      "+---+------------+--------------------+-------------------+---------------+------------------------+-------------------+-----------------------------+-------------------+--------------+------------------------+------------+\n",
      "only showing top 20 rows\n",
      "\n"
     ]
    }
   ],
   "source": [
    "df.show()"
   ]
  },
  {
   "cell_type": "code",
   "execution_count": 10,
   "metadata": {},
   "outputs": [
    {
     "name": "stdout",
     "output_type": "stream",
     "text": [
      "root\n",
      " |-- Id: integer (nullable = true)\n",
      " |-- order_status: string (nullable = true)\n",
      " |-- order_products_value: double (nullable = true)\n",
      " |-- order_freight_value: double (nullable = true)\n",
      " |-- order_items_qty: integer (nullable = true)\n",
      " |-- order_purchase_timestamp: timestamp (nullable = true)\n",
      " |-- order_aproved_at: timestamp (nullable = true)\n",
      " |-- order_delivered_customer_date: timestamp (nullable = true)\n",
      " |-- customer_city: string (nullable = true)\n",
      " |-- customer_state: string (nullable = true)\n",
      " |-- customer_zip_code_prefix: integer (nullable = true)\n",
      " |-- review_score: integer (nullable = true)\n",
      "\n"
     ]
    }
   ],
   "source": [
    "df.printSchema()"
   ]
  },
  {
   "cell_type": "markdown",
   "metadata": {},
   "source": [
    "Calculate the Mean of “order_products_value” , ”order_freight_value”"
   ]
  },
  {
   "cell_type": "code",
   "execution_count": 17,
   "metadata": {},
   "outputs": [
    {
     "name": "stdout",
     "output_type": "stream",
     "text": [
      "+------------------------+\n",
      "|order_product_value_mean|\n",
      "+------------------------+\n",
      "|                  127.88|\n",
      "+------------------------+\n",
      "\n"
     ]
    }
   ],
   "source": [
    "df.select(round(mean(col(\"order_products_value\")), 2).alias(\"order_product_value_mean\")).show()"
   ]
  },
  {
   "cell_type": "code",
   "execution_count": 18,
   "metadata": {},
   "outputs": [
    {
     "name": "stdout",
     "output_type": "stream",
     "text": [
      "+------------------------+\n",
      "|order_freight_value_mean|\n",
      "+------------------------+\n",
      "|                   21.35|\n",
      "+------------------------+\n",
      "\n"
     ]
    }
   ],
   "source": [
    "df.select(round(mean(col(\"order_freight_value\")), 2).alias(\"order_freight_value_mean\")).show()"
   ]
  },
  {
   "cell_type": "markdown",
   "metadata": {},
   "source": [
    "2)\tWhat is the distribution of “order_status”"
   ]
  },
  {
   "cell_type": "code",
   "execution_count": 19,
   "metadata": {},
   "outputs": [
    {
     "name": "stderr",
     "output_type": "stream",
     "text": [
      "[Stage 13:>                                                         (0 + 1) / 1]\r"
     ]
    },
    {
     "name": "stdout",
     "output_type": "stream",
     "text": [
      "+------------+-----+\n",
      "|order_status|count|\n",
      "+------------+-----+\n",
      "|   delivered|  983|\n",
      "|    canceled|    3|\n",
      "|     shipped|   12|\n",
      "|  processing|    1|\n",
      "|    invoiced|    1|\n",
      "+------------+-----+\n",
      "\n"
     ]
    },
    {
     "name": "stderr",
     "output_type": "stream",
     "text": [
      "                                                                                \r"
     ]
    }
   ],
   "source": [
    "df.groupBy(col(\"order_status\")).\\\n",
    "    agg(count(\"order_status\").alias(\"count\")).\\\n",
    "        show()"
   ]
  },
  {
   "cell_type": "markdown",
   "metadata": {},
   "source": [
    "3)\tHow many unique states are there?"
   ]
  },
  {
   "cell_type": "code",
   "execution_count": 20,
   "metadata": {},
   "outputs": [
    {
     "name": "stdout",
     "output_type": "stream",
     "text": [
      "+--------------+\n",
      "|customer_state|\n",
      "+--------------+\n",
      "|            MS|\n",
      "|            CE|\n",
      "|            MG|\n",
      "|            DF|\n",
      "|            RO|\n",
      "|            AM|\n",
      "|            MT|\n",
      "|            SP|\n",
      "|            PB|\n",
      "|            BA|\n",
      "|            SE|\n",
      "|            RJ|\n",
      "|            AC|\n",
      "|            PR|\n",
      "|            RR|\n",
      "|            TO|\n",
      "|            ES|\n",
      "|            AL|\n",
      "|            RN|\n",
      "|            SC|\n",
      "+--------------+\n",
      "only showing top 20 rows\n",
      "\n"
     ]
    }
   ],
   "source": [
    "df.select(col(\"customer_state\")).distinct().show()"
   ]
  },
  {
   "cell_type": "code",
   "execution_count": 21,
   "metadata": {},
   "outputs": [],
   "source": [
    "state_count=df.select(col(\"customer_state\")).distinct().count()"
   ]
  },
  {
   "cell_type": "code",
   "execution_count": 22,
   "metadata": {},
   "outputs": [
    {
     "data": {
      "text/plain": [
       "26"
      ]
     },
     "execution_count": 22,
     "metadata": {},
     "output_type": "execute_result"
    }
   ],
   "source": [
    "state_count"
   ]
  },
  {
   "cell_type": "markdown",
   "metadata": {},
   "source": [
    "4)\tAre there any missing values in the dataset?"
   ]
  },
  {
   "cell_type": "code",
   "execution_count": 25,
   "metadata": {},
   "outputs": [
    {
     "name": "stdout",
     "output_type": "stream",
     "text": [
      "+---+------------+--------------------+-------------------+---------------+------------------------+-------------------+-----------------------------+--------------------+--------------+------------------------+------------+--------+\n",
      "| Id|order_status|order_products_value|order_freight_value|order_items_qty|order_purchase_timestamp|   order_aproved_at|order_delivered_customer_date|       customer_city|customer_state|customer_zip_code_prefix|review_score|has_null|\n",
      "+---+------------+--------------------+-------------------+---------------+------------------------+-------------------+-----------------------------+--------------------+--------------+------------------------+------------+--------+\n",
      "|129|   delivered|               199.9|              15.15|              1|     2017-09-03 14:22:00|2017-09-03 14:30:00|                         NULL|      RIO DE JANEIRO|            RJ|                     212|           5|    true|\n",
      "|155|   delivered|               14.03|              12.35|              1|     2018-01-10 11:33:00|2018-01-11 02:32:00|                         NULL|Sao Francisco de ...|            RJ|                     282|           3|    true|\n",
      "|163|   delivered|              199.89|              15.49|              1|     2017-05-09 11:48:00|2017-05-11 11:45:00|                         NULL|Santa Rita do Sap...|            MG|                     375|           5|    true|\n",
      "|232|   delivered|                14.0|               7.39|              1|     2017-11-17 19:53:00|2017-11-18 19:50:00|                         NULL|           Sao Paulo|            SP|                      31|           5|    true|\n",
      "|267|   delivered|               249.9|              27.91|              1|     2017-11-16 15:09:00|2017-11-16 15:26:00|                         NULL|               Belem|            PA|                     660|           5|    true|\n",
      "|300|   delivered|              166.96|              28.36|              1|     2018-06-28 12:52:00|2018-06-28 13:11:00|                         NULL|             Barueri|            SP|                      64|           1|    true|\n",
      "|306|   delivered|                49.9|              41.33|              1|     2018-02-28 08:57:00|2018-02-28 10:40:00|                         NULL|      RIO DE JANEIRO|            RJ|                     230|           5|    true|\n",
      "|325|   delivered|                69.0|              18.58|              1|     2016-10-05 22:44:00|2016-10-06 15:51:00|                         NULL|             Uberaba|            MG|                     380|           4|    true|\n",
      "|334|   delivered|                29.9|               8.88|              1|     2018-03-17 15:32:00|2018-03-17 15:48:00|                         NULL|          Piracicaba|            SP|                     134|           5|    true|\n",
      "|375|   delivered|               169.9|              22.66|              1|     2018-06-08 20:06:00|2018-06-12 04:35:00|                         NULL|              OSASCO|            SP|                      61|           5|    true|\n",
      "|398|   delivered|               165.0|              19.03|              1|     2018-08-04 14:29:00|2018-08-07 04:10:00|                         NULL|             Chapeco|            SC|                     898|           5|    true|\n",
      "|431|   delivered|               375.8|              32.86|              2|     2017-04-25 13:35:00|2017-04-25 13:45:00|                         NULL|                Maua|            SP|                      93|           4|    true|\n",
      "|445|   delivered|                99.9|              12.19|              1|     2017-11-24 09:23:00|2017-11-24 10:51:00|                         NULL|           Sao Paulo|            SP|                      46|           5|    true|\n",
      "|456|   delivered|                88.8|              17.06|              1|     2017-08-01 18:17:00|2017-08-01 18:32:00|                         NULL|               Pains|            MG|                     355|           5|    true|\n",
      "|541|   delivered|                50.0|               5.29|              1|     2017-06-26 07:04:00|2017-06-26 10:32:00|                         NULL|      RIO DE JANEIRO|            RJ|                     202|           1|    true|\n",
      "|584|   delivered|                45.9|               8.72|              1|     2018-04-04 00:33:00|2018-04-04 00:48:00|                         NULL|             Barueri|            SP|                      64|           5|    true|\n",
      "|587|   delivered|                24.9|               15.1|              1|     2018-01-31 11:31:00|2018-01-31 14:23:00|                         NULL|          Petropolis|            RJ|                     257|           5|    true|\n",
      "|614|   delivered|                24.9|              11.06|              1|     2018-01-26 21:34:00|2018-01-26 21:58:00|                         NULL|               Cunha|            SP|                     125|           1|    true|\n",
      "|688|   delivered|               329.0|              21.54|              1|     2017-08-14 17:38:00|2017-08-17 00:15:00|                         NULL|         Divinopolis|            MG|                     355|           5|    true|\n",
      "|717|   delivered|                29.9|              19.11|              1|     2018-03-15 15:57:00|2018-03-15 16:11:00|                         NULL|        Forquilhinha|            SC|                     888|           5|    true|\n",
      "+---+------------+--------------------+-------------------+---------------+------------------------+-------------------+-----------------------------+--------------------+--------------+------------------------+------------+--------+\n",
      "only showing top 20 rows\n",
      "\n"
     ]
    }
   ],
   "source": [
    "df_flagged = df.withColumn(\"has_null\", lit(False))\n",
    "for col_name in df.columns:\n",
    "    df_flagged = df_flagged.withColumn(\"has_null\", col(\"has_null\") | col(col_name).isNull())\n",
    "\n",
    "rows_with_null = df_flagged.filter(col(\"has_null\")==True)\n",
    "rows_with_null.show()"
   ]
  },
  {
   "cell_type": "code",
   "execution_count": 27,
   "metadata": {},
   "outputs": [
    {
     "name": "stdout",
     "output_type": "stream",
     "text": [
      "root\n",
      " |-- Id: integer (nullable = true)\n",
      " |-- order_status: string (nullable = true)\n",
      " |-- order_products_value: double (nullable = true)\n",
      " |-- order_freight_value: double (nullable = true)\n",
      " |-- order_items_qty: integer (nullable = true)\n",
      " |-- order_purchase_timestamp: timestamp (nullable = true)\n",
      " |-- order_aproved_at: timestamp (nullable = true)\n",
      " |-- order_delivered_customer_date: timestamp (nullable = true)\n",
      " |-- customer_city: string (nullable = true)\n",
      " |-- customer_state: string (nullable = true)\n",
      " |-- customer_zip_code_prefix: integer (nullable = true)\n",
      " |-- review_score: integer (nullable = true)\n",
      "\n"
     ]
    }
   ],
   "source": [
    "df.printSchema()"
   ]
  },
  {
   "cell_type": "markdown",
   "metadata": {},
   "source": [
    "5)\tTop 5 cities with most order"
   ]
  },
  {
   "cell_type": "code",
   "execution_count": 30,
   "metadata": {},
   "outputs": [],
   "source": [
    "df_temp=df.groupBy(col(\"customer_city\")).agg(count(\"*\").alias(\"order_count\")).orderBy(col(\"order_count\").desc())"
   ]
  },
  {
   "cell_type": "code",
   "execution_count": 32,
   "metadata": {},
   "outputs": [
    {
     "name": "stdout",
     "output_type": "stream",
     "text": [
      "+--------------+-----------+\n",
      "| customer_city|order_count|\n",
      "+--------------+-----------+\n",
      "|     Sao Paulo|        143|\n",
      "|RIO DE JANEIRO|         74|\n",
      "|      BRASILIA|         24|\n",
      "|Belo Horizonte|         21|\n",
      "|      Curitiba|         19|\n",
      "+--------------+-----------+\n",
      "only showing top 5 rows\n",
      "\n"
     ]
    }
   ],
   "source": [
    "df_temp.show(5)"
   ]
  },
  {
   "cell_type": "markdown",
   "metadata": {},
   "source": [
    "6)\tPercent of orders delivered/ canceled etc"
   ]
  },
  {
   "cell_type": "code",
   "execution_count": 36,
   "metadata": {},
   "outputs": [
    {
     "data": {
      "text/plain": [
       "3"
      ]
     },
     "execution_count": 36,
     "metadata": {},
     "output_type": "execute_result"
    }
   ],
   "source": [
    "delivered_count=df.select(col(\"order_status\")).filter(col(\"order_status\")==\"delivered\").count()\n",
    "delivered_count\n",
    "canceled_count=df.select(col(\"order_status\")).filter(col(\"order_status\")==\"canceled\").count()\n",
    "canceled_count"
   ]
  },
  {
   "cell_type": "code",
   "execution_count": 38,
   "metadata": {},
   "outputs": [
    {
     "data": {
      "text/plain": [
       "1000"
      ]
     },
     "execution_count": 38,
     "metadata": {},
     "output_type": "execute_result"
    }
   ],
   "source": [
    "total_count=df.select(\"*\").count()\n",
    "total_count"
   ]
  },
  {
   "cell_type": "code",
   "execution_count": 40,
   "metadata": {},
   "outputs": [
    {
     "data": {
      "text/plain": [
       "98.3"
      ]
     },
     "execution_count": 40,
     "metadata": {},
     "output_type": "execute_result"
    }
   ],
   "source": [
    "delivered_pct=(delivered_count/total_count)*100\n",
    "delivered_pct"
   ]
  },
  {
   "cell_type": "code",
   "execution_count": 41,
   "metadata": {},
   "outputs": [
    {
     "data": {
      "text/plain": [
       "0.3"
      ]
     },
     "execution_count": 41,
     "metadata": {},
     "output_type": "execute_result"
    }
   ],
   "source": [
    "canceled_pct=(canceled_count/total_count)*100\n",
    "canceled_pct"
   ]
  },
  {
   "cell_type": "markdown",
   "metadata": {},
   "source": [
    "Question set 2"
   ]
  },
  {
   "cell_type": "markdown",
   "metadata": {},
   "source": [
    "1)\tCalculate the Total sales in each customer city"
   ]
  },
  {
   "cell_type": "code",
   "execution_count": 42,
   "metadata": {},
   "outputs": [
    {
     "name": "stdout",
     "output_type": "stream",
     "text": [
      "root\n",
      " |-- Id: integer (nullable = true)\n",
      " |-- order_status: string (nullable = true)\n",
      " |-- order_products_value: double (nullable = true)\n",
      " |-- order_freight_value: double (nullable = true)\n",
      " |-- order_items_qty: integer (nullable = true)\n",
      " |-- order_purchase_timestamp: timestamp (nullable = true)\n",
      " |-- order_aproved_at: timestamp (nullable = true)\n",
      " |-- order_delivered_customer_date: timestamp (nullable = true)\n",
      " |-- customer_city: string (nullable = true)\n",
      " |-- customer_state: string (nullable = true)\n",
      " |-- customer_zip_code_prefix: integer (nullable = true)\n",
      " |-- review_score: integer (nullable = true)\n",
      "\n"
     ]
    }
   ],
   "source": [
    "df.printSchema()"
   ]
  },
  {
   "cell_type": "code",
   "execution_count": 44,
   "metadata": {},
   "outputs": [
    {
     "name": "stdout",
     "output_type": "stream",
     "text": [
      "+--------------------+-------------------+\n",
      "|       customer_city|Total_Sales_by_city|\n",
      "+--------------------+-------------------+\n",
      "|    Francisco Morato|              84.79|\n",
      "|             Aracati|              102.0|\n",
      "|           Americana|             675.78|\n",
      "|                Tupa|               35.9|\n",
      "|            Caieiras|              207.6|\n",
      "|              Palmas|               99.6|\n",
      "|             Maracas|             109.95|\n",
      "|              Marica|              428.8|\n",
      "|           Arapiraca|              349.9|\n",
      "|     Pindamonhangaba|              294.8|\n",
      "|        Santa Isabel|               19.9|\n",
      "|         Sete Lagoas|             398.89|\n",
      "|              Itajai|               88.0|\n",
      "|              Guarai|               9.97|\n",
      "|           Queimadas|               58.9|\n",
      "|             Jaguare|               65.0|\n",
      "|          Indaiatuba|             505.58|\n",
      "|Sao Joaquim da Barra|               89.0|\n",
      "|            Quintana|              349.9|\n",
      "|                Ipua|              109.9|\n",
      "+--------------------+-------------------+\n",
      "only showing top 20 rows\n",
      "\n"
     ]
    }
   ],
   "source": [
    "df.groupBy(col(\"customer_city\")).agg(round(sum(col(\"order_products_value\")*col(\"order_items_qty\")),2).alias(\"Total_Sales_by_city\")).\\\n",
    "    show()"
   ]
  },
  {
   "cell_type": "markdown",
   "metadata": {},
   "source": [
    "2)\tCorrelation between order value order freight and item quantity"
   ]
  },
  {
   "cell_type": "code",
   "execution_count": 46,
   "metadata": {},
   "outputs": [
    {
     "data": {
      "text/plain": [
       "0.6330066852641087"
      ]
     },
     "execution_count": 46,
     "metadata": {},
     "output_type": "execute_result"
    }
   ],
   "source": [
    "order_value_order_freight_corr = df.stat.corr(\"order_freight_value\", \"order_items_qty\")\n",
    "order_value_order_freight_corr"
   ]
  },
  {
   "cell_type": "markdown",
   "metadata": {},
   "source": [
    "3)\tCalculate the Average Order delivery time / order approval time"
   ]
  },
  {
   "cell_type": "code",
   "execution_count": 47,
   "metadata": {},
   "outputs": [
    {
     "name": "stdout",
     "output_type": "stream",
     "text": [
      "root\n",
      " |-- Id: integer (nullable = true)\n",
      " |-- order_status: string (nullable = true)\n",
      " |-- order_products_value: double (nullable = true)\n",
      " |-- order_freight_value: double (nullable = true)\n",
      " |-- order_items_qty: integer (nullable = true)\n",
      " |-- order_purchase_timestamp: timestamp (nullable = true)\n",
      " |-- order_aproved_at: timestamp (nullable = true)\n",
      " |-- order_delivered_customer_date: timestamp (nullable = true)\n",
      " |-- customer_city: string (nullable = true)\n",
      " |-- customer_state: string (nullable = true)\n",
      " |-- customer_zip_code_prefix: integer (nullable = true)\n",
      " |-- review_score: integer (nullable = true)\n",
      "\n"
     ]
    }
   ],
   "source": [
    "df.printSchema()"
   ]
  },
  {
   "cell_type": "markdown",
   "metadata": {},
   "source": [
    "Average delivery time"
   ]
  },
  {
   "cell_type": "code",
   "execution_count": 49,
   "metadata": {},
   "outputs": [
    {
     "name": "stdout",
     "output_type": "stream",
     "text": [
      "Average Order Delivery Time: 12.326998835491933 days\n"
     ]
    }
   ],
   "source": [
    "from pyspark.sql.functions import col, avg, unix_timestamp\n",
    "\n",
    "# Filter out rows with null values in order_delivered_customer_date\n",
    "filtered_df = df.filter(col(\"order_delivered_customer_date\").isNotNull())\n",
    "\n",
    "# Calculate the delivery time in seconds\n",
    "delivery_time_df = filtered_df.withColumn(\n",
    "    \"delivery_time_seconds\",\n",
    "    unix_timestamp(col(\"order_delivered_customer_date\")) - unix_timestamp(col(\"order_purchase_timestamp\"))\n",
    ")\n",
    "\n",
    "\n",
    "\n",
    "# Calculate the average delivery time in seconds\n",
    "average_delivery_time_seconds = delivery_time_df.select(avg(col(\"delivery_time_seconds\"))).first()[0]\n",
    "\n",
    "# Convert the average delivery time to days\n",
    "average_delivery_time_days = average_delivery_time_seconds / (60 * 60 * 24)\n",
    "\n",
    "print(f\"Average Order Delivery Time: {average_delivery_time_days} days\")"
   ]
  },
  {
   "cell_type": "code",
   "execution_count": 51,
   "metadata": {},
   "outputs": [
    {
     "name": "stdout",
     "output_type": "stream",
     "text": [
      "+---+------------+--------------------+-------------------+---------------+------------------------+-------------------+-----------------------------+-------------------+--------------+------------------------+------------+---------------------+\n",
      "| Id|order_status|order_products_value|order_freight_value|order_items_qty|order_purchase_timestamp|   order_aproved_at|order_delivered_customer_date|      customer_city|customer_state|customer_zip_code_prefix|review_score|delivery_time_seconds|\n",
      "+---+------------+--------------------+-------------------+---------------+------------------------+-------------------+-----------------------------+-------------------+--------------+------------------------+------------+---------------------+\n",
      "|  1|   delivered|                79.0|               17.8|              1|     2017-10-02 10:56:00|2017-10-02 11:07:00|          2017-10-10 21:25:00|           Luziania|            GO|                     728|           5|               728940|\n",
      "|  2|   delivered|               119.9|              27.16|              1|     2018-07-24 20:41:00|2018-07-26 03:24:00|          2018-08-07 15:27:00|          Joinville|            SC|                     892|           5|              1190760|\n",
      "|  3|   delivered|              519.99|              41.69|              1|     2018-08-08 08:38:00|2018-08-08 08:55:00|          2018-08-17 18:06:00|              Serra|            ES|                     291|           1|               811680|\n",
      "|  4|   delivered|                29.5|              17.92|              1|     2017-11-18 19:28:00|2017-11-18 19:45:00|          2017-12-02 00:28:00|     RIO DE JANEIRO|            RJ|                     222|           4|              1141200|\n",
      "|  5|   delivered|               26.77|              23.11|              1|     2018-02-13 21:18:00|2018-02-13 22:20:00|          2018-02-16 18:17:00|          Sao Paulo|            SP|                      40|           5|               248340|\n",
      "|  6|   delivered|               419.9|              23.02|              1|     2017-07-09 21:57:00|2017-07-09 22:10:00|          2017-07-26 10:57:00|       Santa Adelia|            SP|                     159|           5|              1429200|\n",
      "|  7|   delivered|                65.0|              16.21|              1|     2017-04-11 12:22:00|2017-04-13 13:25:00|          2017-04-13 13:25:00|           Varginha|            MG|                     370|           5|               176580|\n",
      "|  8|   delivered|               29.99|              19.82|              1|     2017-05-16 13:10:00|2017-05-16 13:22:00|          2017-05-26 12:55:00|          Sao Paulo|            SP|                      48|           4|               863100|\n",
      "|  9|   delivered|               59.99|              51.14|              1|     2017-01-23 18:29:00|2017-01-25 02:50:00|          2017-02-02 14:08:00|            Carajas|            PA|                     685|           5|               848340|\n",
      "| 10|   delivered|               56.99|              16.13|              1|     2017-07-29 11:55:00|2017-07-29 12:05:00|          2017-08-16 17:14:00|            Resende|            RJ|                     275|           5|              1574340|\n",
      "| 11|   delivered|               599.0|              15.69|              1|     2017-05-16 19:41:00|2017-05-16 19:50:00|          2017-05-29 11:18:00|      Guaratingueta|            SP|                     125|           4|              1093020|\n",
      "| 12|   delivered|                62.0|              16.19|              1|     2017-07-13 19:58:00|2017-07-13 20:10:00|          2017-07-19 14:04:00|            Tijucas|            SC|                     882|           4|               497160|\n",
      "| 13|   delivered|               250.0|              35.02|              1|     2018-06-07 10:06:00|2018-06-09 03:13:00|          2018-06-19 12:05:00|           Mirassol|            SP|                     151|           1|              1043940|\n",
      "| 14|   delivered|                69.9|              12.93|              1|     2018-07-25 17:44:00|2018-07-25 17:55:00|          2018-07-30 15:52:00|          SAO PAULO|            SP|                      82|           4|               425280|\n",
      "| 15|   delivered|               250.0|               16.5|              1|     2018-03-01 14:14:00|2018-03-01 15:10:00|          2018-03-12 23:36:00|               Bage|            RS|                     964|           5|               984120|\n",
      "| 16|   delivered|                79.9|               7.82|              1|     2018-06-07 19:03:00|2018-06-12 23:31:00|          2018-06-21 15:34:00|            Cubatao|            SP|                     115|           3|              1197060|\n",
      "| 17|   delivered|                32.0|              19.41|              1|     2018-01-02 19:00:00|2018-01-02 19:09:00|          2018-01-20 01:38:00|          Jaraguari|            MS|                     794|           4|              1492680|\n",
      "| 18|   delivered|               287.7|              15.37|              1|     2017-12-26 23:41:00|2017-12-26 23:50:00|          2018-01-08 22:36:00|Presidente Prudente|            SP|                     190|           5|              1119300|\n",
      "| 19|   delivered|               59.99|              15.18|              1|     2017-11-21 00:03:00|2017-11-21 00:14:00|          2017-11-27 18:28:00|   Cidade Ocidental|            GO|                     728|           3|               584700|\n",
      "| 20|   delivered|              1200.0|              60.76|              1|     2017-10-26 15:54:00|2017-10-26 16:08:00|          2017-11-08 22:22:00|Sao Lourenco do Sul|            RS|                     961|           4|              1146480|\n",
      "+---+------------+--------------------+-------------------+---------------+------------------------+-------------------+-----------------------------+-------------------+--------------+------------------------+------------+---------------------+\n",
      "only showing top 20 rows\n",
      "\n"
     ]
    }
   ],
   "source": [
    "delivery_time_df.show()"
   ]
  },
  {
   "cell_type": "code",
   "execution_count": 54,
   "metadata": {},
   "outputs": [
    {
     "name": "stdout",
     "output_type": "stream",
     "text": [
      "+---------------------+\n",
      "|delivery_time_seconds|\n",
      "+---------------------+\n",
      "|               728940|\n",
      "|              1190760|\n",
      "|               811680|\n",
      "|              1141200|\n",
      "|               248340|\n",
      "|              1429200|\n",
      "|               176580|\n",
      "|               863100|\n",
      "|               848340|\n",
      "|              1574340|\n",
      "|              1093020|\n",
      "|               497160|\n",
      "|              1043940|\n",
      "|               425280|\n",
      "|               984120|\n",
      "|              1197060|\n",
      "|              1492680|\n",
      "|              1119300|\n",
      "|               584700|\n",
      "|              1146480|\n",
      "+---------------------+\n",
      "only showing top 20 rows\n",
      "\n"
     ]
    }
   ],
   "source": [
    "delivery_time_df.select(col(\"delivery_time_seconds\")).show()"
   ]
  },
  {
   "cell_type": "code",
   "execution_count": 52,
   "metadata": {},
   "outputs": [
    {
     "name": "stdout",
     "output_type": "stream",
     "text": [
      "+--------------------------+\n",
      "|avg(delivery_time_seconds)|\n",
      "+--------------------------+\n",
      "|         1065052.699386503|\n",
      "+--------------------------+\n",
      "\n"
     ]
    }
   ],
   "source": [
    "delivery_time_df.select(avg(col(\"delivery_time_seconds\"))).show()"
   ]
  },
  {
   "cell_type": "code",
   "execution_count": 53,
   "metadata": {},
   "outputs": [
    {
     "data": {
      "text/plain": [
       "1065052.699386503"
      ]
     },
     "execution_count": 53,
     "metadata": {},
     "output_type": "execute_result"
    }
   ],
   "source": [
    "delivery_time_df.select(avg(col(\"delivery_time_seconds\"))).first()[0]"
   ]
  },
  {
   "cell_type": "markdown",
   "metadata": {},
   "source": [
    "Average approval time"
   ]
  },
  {
   "cell_type": "code",
   "execution_count": 50,
   "metadata": {},
   "outputs": [
    {
     "name": "stdout",
     "output_type": "stream",
     "text": [
      "Average Order Approval Time: 10.507299999999999 hours\n"
     ]
    }
   ],
   "source": [
    "# Filter out rows with null values in order_aproved_at\n",
    "filtered_df_approval = df.filter(col(\"order_aproved_at\").isNotNull())\n",
    "\n",
    "# Calculate the approval time in seconds\n",
    "approval_time_df = filtered_df_approval.withColumn(\n",
    "    \"approval_time_seconds\",\n",
    "    unix_timestamp(col(\"order_aproved_at\")) - unix_timestamp(col(\"order_purchase_timestamp\"))\n",
    ")\n",
    "\n",
    "# Calculate the average approval time in seconds\n",
    "average_approval_time_seconds = approval_time_df.select(avg(col(\"approval_time_seconds\"))).first()[0]\n",
    "\n",
    "# Convert the average approval time to hours\n",
    "average_approval_time_hours = average_approval_time_seconds / (60 * 60)\n",
    "\n",
    "print(f\"Average Order Approval Time: {average_approval_time_hours} hours\")\n"
   ]
  },
  {
   "cell_type": "markdown",
   "metadata": {},
   "source": [
    "4)\tCalculate the Average review score per Order"
   ]
  },
  {
   "cell_type": "code",
   "execution_count": 62,
   "metadata": {},
   "outputs": [
    {
     "name": "stdout",
     "output_type": "stream",
     "text": [
      "root\n",
      " |-- Id: integer (nullable = true)\n",
      " |-- order_status: string (nullable = true)\n",
      " |-- order_products_value: double (nullable = true)\n",
      " |-- order_freight_value: double (nullable = true)\n",
      " |-- order_items_qty: integer (nullable = true)\n",
      " |-- order_purchase_timestamp: timestamp (nullable = true)\n",
      " |-- order_aproved_at: timestamp (nullable = true)\n",
      " |-- order_delivered_customer_date: timestamp (nullable = true)\n",
      " |-- customer_city: string (nullable = true)\n",
      " |-- customer_state: string (nullable = true)\n",
      " |-- customer_zip_code_prefix: integer (nullable = true)\n",
      " |-- review_score: integer (nullable = true)\n",
      "\n"
     ]
    }
   ],
   "source": [
    "df.printSchema()"
   ]
  },
  {
   "cell_type": "code",
   "execution_count": 65,
   "metadata": {},
   "outputs": [
    {
     "name": "stdout",
     "output_type": "stream",
     "text": [
      "+------------+----------------+\n",
      "|order_status|avg_review_score|\n",
      "+------------+----------------+\n",
      "|   delivered|            4.14|\n",
      "|    canceled|             1.0|\n",
      "|     shipped|            1.25|\n",
      "|  processing|             1.0|\n",
      "|    invoiced|             1.0|\n",
      "+------------+----------------+\n",
      "\n"
     ]
    }
   ],
   "source": [
    "df.groupBy(col(\"order_status\")) \\\n",
    "  .agg(round(avg(col(\"review_score\")), 2).alias(\"avg_review_score\")) \\\n",
    "  .show()"
   ]
  },
  {
   "cell_type": "markdown",
   "metadata": {},
   "source": [
    "5)\tFind the top 3 cities with fastest and slowest delivery times"
   ]
  },
  {
   "cell_type": "code",
   "execution_count": 68,
   "metadata": {},
   "outputs": [],
   "source": [
    "# Filter out rows with null values in order_aproved_at\n",
    "filtered_df_approval = df.filter(col(\"order_aproved_at\").isNotNull())\n",
    "\n",
    "# Calculate the approval time in seconds\n",
    "approval_time_df = filtered_df_approval.withColumn(\n",
    "    \"approval_time_seconds\",\n",
    "    unix_timestamp(col(\"order_aproved_at\")) - unix_timestamp(col(\"order_purchase_timestamp\"))\n",
    ")"
   ]
  },
  {
   "cell_type": "markdown",
   "metadata": {},
   "source": [
    "top 3 slowest"
   ]
  },
  {
   "cell_type": "code",
   "execution_count": 69,
   "metadata": {},
   "outputs": [
    {
     "name": "stdout",
     "output_type": "stream",
     "text": [
      "+---+------------+--------------------+-------------------+---------------+------------------------+-------------------+-----------------------------+--------------+--------------+------------------------+------------+---------------------+\n",
      "| Id|order_status|order_products_value|order_freight_value|order_items_qty|order_purchase_timestamp|   order_aproved_at|order_delivered_customer_date| customer_city|customer_state|customer_zip_code_prefix|review_score|delivery_time_seconds|\n",
      "+---+------------+--------------------+-------------------+---------------+------------------------+-------------------+-----------------------------+--------------+--------------+------------------------+------------+---------------------+\n",
      "|253|   delivered|                29.0|               4.48|              1|     2018-02-01 07:47:00|2018-02-01 08:10:00|          2018-04-23 15:49:00|RIO DE JANEIRO|            RJ|                     220|           5|              7027320|\n",
      "|659|   delivered|               149.0|              14.79|              1|     2018-01-19 00:48:00|2018-01-19 01:21:00|          2018-04-04 17:12:00|          Mage|            RJ|                     259|           5|              6539040|\n",
      "|446|   delivered|                79.0|              18.79|              1|     2018-03-16 11:31:00|2018-03-16 11:49:00|          2018-05-14 12:28:00|RIO DE JANEIRO|            RJ|                     218|           5|              5101020|\n",
      "+---+------------+--------------------+-------------------+---------------+------------------------+-------------------+-----------------------------+--------------+--------------+------------------------+------------+---------------------+\n",
      "only showing top 3 rows\n",
      "\n"
     ]
    }
   ],
   "source": [
    "delivery_time_df.orderBy(col(\"delivery_time_seconds\").desc()).show(3)"
   ]
  },
  {
   "cell_type": "markdown",
   "metadata": {},
   "source": [
    "top 3 fastest"
   ]
  },
  {
   "cell_type": "code",
   "execution_count": 70,
   "metadata": {},
   "outputs": [
    {
     "name": "stdout",
     "output_type": "stream",
     "text": [
      "+---+------------+--------------------+-------------------+---------------+------------------------+-------------------+-----------------------------+--------------------+--------------+------------------------+------------+---------------------+\n",
      "| Id|order_status|order_products_value|order_freight_value|order_items_qty|order_purchase_timestamp|   order_aproved_at|order_delivered_customer_date|       customer_city|customer_state|customer_zip_code_prefix|review_score|delivery_time_seconds|\n",
      "+---+------------+--------------------+-------------------+---------------+------------------------+-------------------+-----------------------------+--------------------+--------------+------------------------+------------+---------------------+\n",
      "| 45|   delivered|               69.49|              13.61|              1|     2018-06-04 16:44:00|2018-06-05 04:31:00|          2018-06-05 04:31:00|Sao Bernardo do C...|            SP|                      98|           4|                42420|\n",
      "|396|   delivered|                21.9|              11.85|              1|     2018-02-02 15:26:00|2018-02-02 16:00:00|          2018-02-03 15:05:00|      Ribeirao Preto|            SP|                     140|           5|                85140|\n",
      "|736|   delivered|                23.7|               7.78|              1|     2017-11-16 13:54:00|2017-11-16 14:08:00|          2017-11-17 13:49:00|     Mogi das Cruzes|            SP|                      87|           4|                86100|\n",
      "+---+------------+--------------------+-------------------+---------------+------------------------+-------------------+-----------------------------+--------------------+--------------+------------------------+------------+---------------------+\n",
      "only showing top 3 rows\n",
      "\n"
     ]
    }
   ],
   "source": [
    "delivery_time_df.orderBy(col(\"delivery_time_seconds\")).show(3)"
   ]
  },
  {
   "cell_type": "markdown",
   "metadata": {},
   "source": [
    "6)\tRelation between delivery time and review score (average delivery time for each review score) / Correlation between delivery time and review score"
   ]
  },
  {
   "cell_type": "code",
   "execution_count": 71,
   "metadata": {},
   "outputs": [
    {
     "data": {
      "text/plain": [
       "0.021838753266314088"
      ]
     },
     "execution_count": 71,
     "metadata": {},
     "output_type": "execute_result"
    }
   ],
   "source": [
    "delivery_time_df.stat.corr(\"delivery_time_seconds\",\"review_score\")"
   ]
  },
  {
   "cell_type": "markdown",
   "metadata": {},
   "source": [
    "Save as table orders"
   ]
  },
  {
   "cell_type": "code",
   "execution_count": 72,
   "metadata": {},
   "outputs": [
    {
     "name": "stderr",
     "output_type": "stream",
     "text": [
      "ivysettings.xml file not found in HIVE_HOME or HIVE_CONF_DIR,/etc/hive/conf.dist/ivysettings.xml will be used\n",
      "24/07/21 05:21:22 WARN SessionState: METASTORE_FILTER_HOOK will be ignored, since hive.security.authorization.manager is set to instance of HiveAuthorizerFactory.\n"
     ]
    }
   ],
   "source": [
    "df.write.saveAsTable(\"orders_table\",header=True)"
   ]
  },
  {
   "cell_type": "code",
   "execution_count": 74,
   "metadata": {},
   "outputs": [
    {
     "name": "stdout",
     "output_type": "stream",
     "text": [
      "+---+------------+--------------------+-------------------+---------------+------------------------+-------------------+-----------------------------+-------------------+--------------+------------------------+------------+\n",
      "| Id|order_status|order_products_value|order_freight_value|order_items_qty|order_purchase_timestamp|   order_aproved_at|order_delivered_customer_date|      customer_city|customer_state|customer_zip_code_prefix|review_score|\n",
      "+---+------------+--------------------+-------------------+---------------+------------------------+-------------------+-----------------------------+-------------------+--------------+------------------------+------------+\n",
      "|  1|   delivered|                79.0|               17.8|              1|     2017-10-02 10:56:00|2017-10-02 11:07:00|          2017-10-10 21:25:00|           Luziania|            GO|                     728|           5|\n",
      "|  2|   delivered|               119.9|              27.16|              1|     2018-07-24 20:41:00|2018-07-26 03:24:00|          2018-08-07 15:27:00|          Joinville|            SC|                     892|           5|\n",
      "|  3|   delivered|              519.99|              41.69|              1|     2018-08-08 08:38:00|2018-08-08 08:55:00|          2018-08-17 18:06:00|              Serra|            ES|                     291|           1|\n",
      "|  4|   delivered|                29.5|              17.92|              1|     2017-11-18 19:28:00|2017-11-18 19:45:00|          2017-12-02 00:28:00|     RIO DE JANEIRO|            RJ|                     222|           4|\n",
      "|  5|   delivered|               26.77|              23.11|              1|     2018-02-13 21:18:00|2018-02-13 22:20:00|          2018-02-16 18:17:00|          Sao Paulo|            SP|                      40|           5|\n",
      "|  6|   delivered|               419.9|              23.02|              1|     2017-07-09 21:57:00|2017-07-09 22:10:00|          2017-07-26 10:57:00|       Santa Adelia|            SP|                     159|           5|\n",
      "|  7|   delivered|                65.0|              16.21|              1|     2017-04-11 12:22:00|2017-04-13 13:25:00|          2017-04-13 13:25:00|           Varginha|            MG|                     370|           5|\n",
      "|  8|   delivered|               29.99|              19.82|              1|     2017-05-16 13:10:00|2017-05-16 13:22:00|          2017-05-26 12:55:00|          Sao Paulo|            SP|                      48|           4|\n",
      "|  9|   delivered|               59.99|              51.14|              1|     2017-01-23 18:29:00|2017-01-25 02:50:00|          2017-02-02 14:08:00|            Carajas|            PA|                     685|           5|\n",
      "| 10|   delivered|               56.99|              16.13|              1|     2017-07-29 11:55:00|2017-07-29 12:05:00|          2017-08-16 17:14:00|            Resende|            RJ|                     275|           5|\n",
      "| 11|   delivered|               599.0|              15.69|              1|     2017-05-16 19:41:00|2017-05-16 19:50:00|          2017-05-29 11:18:00|      Guaratingueta|            SP|                     125|           4|\n",
      "| 12|   delivered|                62.0|              16.19|              1|     2017-07-13 19:58:00|2017-07-13 20:10:00|          2017-07-19 14:04:00|            Tijucas|            SC|                     882|           4|\n",
      "| 13|   delivered|               250.0|              35.02|              1|     2018-06-07 10:06:00|2018-06-09 03:13:00|          2018-06-19 12:05:00|           Mirassol|            SP|                     151|           1|\n",
      "| 14|   delivered|                69.9|              12.93|              1|     2018-07-25 17:44:00|2018-07-25 17:55:00|          2018-07-30 15:52:00|          SAO PAULO|            SP|                      82|           4|\n",
      "| 15|   delivered|               250.0|               16.5|              1|     2018-03-01 14:14:00|2018-03-01 15:10:00|          2018-03-12 23:36:00|               Bage|            RS|                     964|           5|\n",
      "| 16|   delivered|                79.9|               7.82|              1|     2018-06-07 19:03:00|2018-06-12 23:31:00|          2018-06-21 15:34:00|            Cubatao|            SP|                     115|           3|\n",
      "| 17|   delivered|                32.0|              19.41|              1|     2018-01-02 19:00:00|2018-01-02 19:09:00|          2018-01-20 01:38:00|          Jaraguari|            MS|                     794|           4|\n",
      "| 18|   delivered|               287.7|              15.37|              1|     2017-12-26 23:41:00|2017-12-26 23:50:00|          2018-01-08 22:36:00|Presidente Prudente|            SP|                     190|           5|\n",
      "| 19|   delivered|               59.99|              15.18|              1|     2017-11-21 00:03:00|2017-11-21 00:14:00|          2017-11-27 18:28:00|   Cidade Ocidental|            GO|                     728|           3|\n",
      "| 20|   delivered|              1200.0|              60.76|              1|     2017-10-26 15:54:00|2017-10-26 16:08:00|          2017-11-08 22:22:00|Sao Lourenco do Sul|            RS|                     961|           4|\n",
      "+---+------------+--------------------+-------------------+---------------+------------------------+-------------------+-----------------------------+-------------------+--------------+------------------------+------------+\n",
      "only showing top 20 rows\n",
      "\n"
     ]
    }
   ],
   "source": [
    "spark.sql(\"\"\"\n",
    "          \n",
    "          Select * from orders_table;\n",
    "          \n",
    "          \"\"\").show()"
   ]
  },
  {
   "cell_type": "code",
   "execution_count": 75,
   "metadata": {},
   "outputs": [],
   "source": [
    "spark.stop()"
   ]
  }
 ],
 "metadata": {
  "kernelspec": {
   "display_name": "Python 3",
   "language": "python",
   "name": "python3"
  },
  "language_info": {
   "codemirror_mode": {
    "name": "ipython",
    "version": 3
   },
   "file_extension": ".py",
   "mimetype": "text/x-python",
   "name": "python",
   "nbconvert_exporter": "python",
   "pygments_lexer": "ipython3",
   "version": "3.11.9"
  }
 },
 "nbformat": 4,
 "nbformat_minor": 2
}
