{
 "cells": [
  {
   "cell_type": "code",
   "execution_count": 1,
   "metadata": {},
   "outputs": [
    {
     "name": "stdout",
     "output_type": "stream",
     "text": [
      "Defaulting to user installation because normal site-packages is not writeable\n",
      "Requirement already satisfied: pyspark in /usr/lib/spark/python (3.5.0)\n",
      "Requirement already satisfied: py4j==0.10.9.7 in /opt/conda/miniconda3/lib/python3.11/site-packages (from pyspark) (0.10.9.7)\n"
     ]
    }
   ],
   "source": [
    "!pip install pyspark"
   ]
  },
  {
   "cell_type": "code",
   "execution_count": 2,
   "metadata": {},
   "outputs": [],
   "source": [
    "from pyspark.sql import SparkSession"
   ]
  },
  {
   "cell_type": "code",
   "execution_count": 3,
   "metadata": {},
   "outputs": [
    {
     "name": "stderr",
     "output_type": "stream",
     "text": [
      "Setting default log level to \"WARN\".\n",
      "To adjust logging level use sc.setLogLevel(newLevel). For SparkR, use setLogLevel(newLevel).\n",
      "24/05/23 02:03:38 INFO SparkEnv: Registering MapOutputTracker\n",
      "24/05/23 02:03:38 INFO SparkEnv: Registering BlockManagerMaster\n",
      "24/05/23 02:03:38 INFO SparkEnv: Registering BlockManagerMasterHeartbeat\n",
      "24/05/23 02:03:38 INFO SparkEnv: Registering OutputCommitCoordinator\n"
     ]
    }
   ],
   "source": [
    "spark=SparkSession.\\\n",
    "    builder.\\\n",
    "        appName(\"Orders testing\").\\\n",
    "            getOrCreate()"
   ]
  },
  {
   "cell_type": "code",
   "execution_count": 5,
   "metadata": {},
   "outputs": [],
   "source": [
    "# from pyspark.sql import SparkSession\n",
    "\n",
    "# # Initialize SparkSession\n",
    "# spk = SparkSession.builder \\\n",
    "#     .appName(\"CSVExample\") \\\n",
    "#     .getOrCreate()\n",
    "\n",
    "# Path to the CSV directory\n",
    "csv_file_path = \"/user/sovik/retail_test/orders/\"\n",
    "\n",
    "# Read the CSV file into a DataFrame with header and schema inference\n",
    "orders = spark.read.csv(csv_file_path, header=True, schema=\"order_id INT,order_date STRING,order_customer_id INT,order_status STRING\")\n"
   ]
  },
  {
   "cell_type": "code",
   "execution_count": 7,
   "metadata": {},
   "outputs": [],
   "source": [
    "orders_rdd=orders.rdd"
   ]
  },
  {
   "cell_type": "code",
   "execution_count": 8,
   "metadata": {},
   "outputs": [
    {
     "data": {
      "text/plain": [
       "1"
      ]
     },
     "execution_count": 8,
     "metadata": {},
     "output_type": "execute_result"
    }
   ],
   "source": [
    "orders_rdd.getNumPartitions()"
   ]
  },
  {
   "cell_type": "code",
   "execution_count": 16,
   "metadata": {},
   "outputs": [],
   "source": [
    "orders_little=orders.limit(10)"
   ]
  },
  {
   "cell_type": "code",
   "execution_count": 17,
   "metadata": {},
   "outputs": [
    {
     "name": "stdout",
     "output_type": "stream",
     "text": [
      "+--------+--------------------+-----------------+---------------+\n",
      "|order_id|          order_date|order_customer_id|   order_status|\n",
      "+--------+--------------------+-----------------+---------------+\n",
      "|       2|2013-07-25 00:00:...|              256|PENDING_PAYMENT|\n",
      "|       3|2013-07-25 00:00:...|            12111|       COMPLETE|\n",
      "|       4|2013-07-25 00:00:...|             8827|         CLOSED|\n",
      "|       5|2013-07-25 00:00:...|            11318|       COMPLETE|\n",
      "|       6|2013-07-25 00:00:...|             7130|       COMPLETE|\n",
      "|       7|2013-07-25 00:00:...|             4530|       COMPLETE|\n",
      "|       8|2013-07-25 00:00:...|             2911|     PROCESSING|\n",
      "|       9|2013-07-25 00:00:...|             5657|PENDING_PAYMENT|\n",
      "|      10|2013-07-25 00:00:...|             5648|PENDING_PAYMENT|\n",
      "|      11|2013-07-25 00:00:...|              918| PAYMENT_REVIEW|\n",
      "+--------+--------------------+-----------------+---------------+\n",
      "\n"
     ]
    }
   ],
   "source": [
    "orders_little.show()"
   ]
  },
  {
   "cell_type": "code",
   "execution_count": 20,
   "metadata": {},
   "outputs": [],
   "source": [
    "list_order_sample=orders_little.collect()\n",
    "list_of_dicts=[row.asDict() for row in list_order_sample]"
   ]
  },
  {
   "cell_type": "code",
   "execution_count": 24,
   "metadata": {},
   "outputs": [
    {
     "data": {
      "text/plain": [
       "[Row(order_id=2, order_date='2013-07-25 00:00:00.0', order_customer_id=256, order_status='PENDING_PAYMENT'),\n",
       " Row(order_id=3, order_date='2013-07-25 00:00:00.0', order_customer_id=12111, order_status='COMPLETE'),\n",
       " Row(order_id=4, order_date='2013-07-25 00:00:00.0', order_customer_id=8827, order_status='CLOSED'),\n",
       " Row(order_id=5, order_date='2013-07-25 00:00:00.0', order_customer_id=11318, order_status='COMPLETE'),\n",
       " Row(order_id=6, order_date='2013-07-25 00:00:00.0', order_customer_id=7130, order_status='COMPLETE'),\n",
       " Row(order_id=7, order_date='2013-07-25 00:00:00.0', order_customer_id=4530, order_status='COMPLETE'),\n",
       " Row(order_id=8, order_date='2013-07-25 00:00:00.0', order_customer_id=2911, order_status='PROCESSING'),\n",
       " Row(order_id=9, order_date='2013-07-25 00:00:00.0', order_customer_id=5657, order_status='PENDING_PAYMENT'),\n",
       " Row(order_id=10, order_date='2013-07-25 00:00:00.0', order_customer_id=5648, order_status='PENDING_PAYMENT'),\n",
       " Row(order_id=11, order_date='2013-07-25 00:00:00.0', order_customer_id=918, order_status='PAYMENT_REVIEW')]"
      ]
     },
     "execution_count": 24,
     "metadata": {},
     "output_type": "execute_result"
    }
   ],
   "source": [
    "list_order_sample\n"
   ]
  },
  {
   "cell_type": "code",
   "execution_count": 21,
   "metadata": {},
   "outputs": [
    {
     "data": {
      "text/plain": [
       "[{'order_id': 2,\n",
       "  'order_date': '2013-07-25 00:00:00.0',\n",
       "  'order_customer_id': 256,\n",
       "  'order_status': 'PENDING_PAYMENT'},\n",
       " {'order_id': 3,\n",
       "  'order_date': '2013-07-25 00:00:00.0',\n",
       "  'order_customer_id': 12111,\n",
       "  'order_status': 'COMPLETE'},\n",
       " {'order_id': 4,\n",
       "  'order_date': '2013-07-25 00:00:00.0',\n",
       "  'order_customer_id': 8827,\n",
       "  'order_status': 'CLOSED'},\n",
       " {'order_id': 5,\n",
       "  'order_date': '2013-07-25 00:00:00.0',\n",
       "  'order_customer_id': 11318,\n",
       "  'order_status': 'COMPLETE'},\n",
       " {'order_id': 6,\n",
       "  'order_date': '2013-07-25 00:00:00.0',\n",
       "  'order_customer_id': 7130,\n",
       "  'order_status': 'COMPLETE'},\n",
       " {'order_id': 7,\n",
       "  'order_date': '2013-07-25 00:00:00.0',\n",
       "  'order_customer_id': 4530,\n",
       "  'order_status': 'COMPLETE'},\n",
       " {'order_id': 8,\n",
       "  'order_date': '2013-07-25 00:00:00.0',\n",
       "  'order_customer_id': 2911,\n",
       "  'order_status': 'PROCESSING'},\n",
       " {'order_id': 9,\n",
       "  'order_date': '2013-07-25 00:00:00.0',\n",
       "  'order_customer_id': 5657,\n",
       "  'order_status': 'PENDING_PAYMENT'},\n",
       " {'order_id': 10,\n",
       "  'order_date': '2013-07-25 00:00:00.0',\n",
       "  'order_customer_id': 5648,\n",
       "  'order_status': 'PENDING_PAYMENT'},\n",
       " {'order_id': 11,\n",
       "  'order_date': '2013-07-25 00:00:00.0',\n",
       "  'order_customer_id': 918,\n",
       "  'order_status': 'PAYMENT_REVIEW'}]"
      ]
     },
     "execution_count": 21,
     "metadata": {},
     "output_type": "execute_result"
    }
   ],
   "source": [
    "list_of_dicts"
   ]
  },
  {
   "cell_type": "code",
   "execution_count": 22,
   "metadata": {},
   "outputs": [],
   "source": [
    "orders_rdd_v2=spark.sparkContext.parallelize(list_of_dicts)"
   ]
  },
  {
   "cell_type": "code",
   "execution_count": 23,
   "metadata": {},
   "outputs": [
    {
     "data": {
      "text/plain": [
       "2"
      ]
     },
     "execution_count": 23,
     "metadata": {},
     "output_type": "execute_result"
    }
   ],
   "source": [
    "orders_rdd_v2.getNumPartitions()"
   ]
  },
  {
   "cell_type": "code",
   "execution_count": 9,
   "metadata": {},
   "outputs": [],
   "source": [
    "rdd_test = spark.sparkContext.parallelize([\"Hello world\", \"Spark is awesome\", \"Big Data\"])"
   ]
  },
  {
   "cell_type": "code",
   "execution_count": 10,
   "metadata": {},
   "outputs": [
    {
     "data": {
      "text/plain": [
       "2"
      ]
     },
     "execution_count": 10,
     "metadata": {},
     "output_type": "execute_result"
    }
   ],
   "source": [
    "rdd_test.getNumPartitions()"
   ]
  },
  {
   "cell_type": "code",
   "execution_count": 10,
   "metadata": {},
   "outputs": [
    {
     "name": "stdout",
     "output_type": "stream",
     "text": [
      "+--------+---------------------+-----------------+---------------+\n",
      "|order_id|order_date           |order_customer_id|order_status   |\n",
      "+--------+---------------------+-----------------+---------------+\n",
      "|2       |2013-07-25 00:00:00.0|256              |PENDING_PAYMENT|\n",
      "|3       |2013-07-25 00:00:00.0|12111            |COMPLETE       |\n",
      "|4       |2013-07-25 00:00:00.0|8827             |CLOSED         |\n",
      "|5       |2013-07-25 00:00:00.0|11318            |COMPLETE       |\n",
      "|6       |2013-07-25 00:00:00.0|7130             |COMPLETE       |\n",
      "|7       |2013-07-25 00:00:00.0|4530             |COMPLETE       |\n",
      "|8       |2013-07-25 00:00:00.0|2911             |PROCESSING     |\n",
      "|9       |2013-07-25 00:00:00.0|5657             |PENDING_PAYMENT|\n",
      "|10      |2013-07-25 00:00:00.0|5648             |PENDING_PAYMENT|\n",
      "|11      |2013-07-25 00:00:00.0|918              |PAYMENT_REVIEW |\n",
      "+--------+---------------------+-----------------+---------------+\n",
      "\n"
     ]
    }
   ],
   "source": [
    "orders.limit(10).show(truncate=False)"
   ]
  },
  {
   "cell_type": "code",
   "execution_count": 14,
   "metadata": {},
   "outputs": [],
   "source": [
    "csv_file_path = \"/user/sovik/retail_test/order_items/\"\n",
    "\n",
    "# Read the CSV file into a DataFrame with header and schema inference\n",
    "order_items = spark.read.csv(csv_file_path, header=True, schema=\"order_item_id INT,order_item_order_id INT,order_item_product_id INT,quantity INT,order_subtotal DOUBLE,price DOUBLE\")"
   ]
  },
  {
   "cell_type": "code",
   "execution_count": 15,
   "metadata": {},
   "outputs": [
    {
     "name": "stdout",
     "output_type": "stream",
     "text": [
      "+-------------+-------------------+---------------------+--------+--------------+------+\n",
      "|order_item_id|order_item_order_id|order_item_product_id|quantity|order_subtotal|price |\n",
      "+-------------+-------------------+---------------------+--------+--------------+------+\n",
      "|2            |2                  |1073                 |1       |199.99        |199.99|\n",
      "|3            |2                  |502                  |5       |250.0         |50.0  |\n",
      "|4            |2                  |403                  |1       |129.99        |129.99|\n",
      "|5            |4                  |897                  |2       |49.98         |24.99 |\n",
      "|6            |4                  |365                  |5       |299.95        |59.99 |\n",
      "|7            |4                  |502                  |3       |150.0         |50.0  |\n",
      "|8            |4                  |1014                 |4       |199.92        |49.98 |\n",
      "|9            |5                  |957                  |1       |299.98        |299.98|\n",
      "|10           |5                  |365                  |5       |299.95        |59.99 |\n",
      "|11           |5                  |1014                 |2       |99.96         |49.98 |\n",
      "+-------------+-------------------+---------------------+--------+--------------+------+\n",
      "\n"
     ]
    }
   ],
   "source": [
    "order_items.limit(10).show(truncate=False)"
   ]
  },
  {
   "cell_type": "code",
   "execution_count": 31,
   "metadata": {},
   "outputs": [],
   "source": [
    "from pyspark.sql.functions import col,sum,round"
   ]
  },
  {
   "cell_type": "code",
   "execution_count": 19,
   "metadata": {},
   "outputs": [],
   "source": [
    "order_items_temp=order_items.\\\n",
    "    select(col(\"order_item_id\"),\\\n",
    "           col(\"order_item_product_id\"),\\\n",
    "           col(\"quantity\"),\\\n",
    "           col(\"order_subtotal\"),\\\n",
    "           col(\"price\")).\\\n",
    "    limit(100)"
   ]
  },
  {
   "cell_type": "code",
   "execution_count": 20,
   "metadata": {},
   "outputs": [
    {
     "name": "stdout",
     "output_type": "stream",
     "text": [
      "+-------------+---------------------+--------+--------------+------+\n",
      "|order_item_id|order_item_product_id|quantity|order_subtotal| price|\n",
      "+-------------+---------------------+--------+--------------+------+\n",
      "|            2|                 1073|       1|        199.99|199.99|\n",
      "|            3|                  502|       5|         250.0|  50.0|\n",
      "|            4|                  403|       1|        129.99|129.99|\n",
      "|            5|                  897|       2|         49.98| 24.99|\n",
      "|            6|                  365|       5|        299.95| 59.99|\n",
      "|            7|                  502|       3|         150.0|  50.0|\n",
      "|            8|                 1014|       4|        199.92| 49.98|\n",
      "|            9|                  957|       1|        299.98|299.98|\n",
      "|           10|                  365|       5|        299.95| 59.99|\n",
      "|           11|                 1014|       2|         99.96| 49.98|\n",
      "|           12|                  957|       1|        299.98|299.98|\n",
      "|           13|                  403|       1|        129.99|129.99|\n",
      "|           14|                 1073|       1|        199.99|199.99|\n",
      "|           15|                  957|       1|        299.98|299.98|\n",
      "|           16|                  926|       5|         79.95| 15.99|\n",
      "|           17|                  365|       3|        179.97| 59.99|\n",
      "|           18|                  365|       5|        299.95| 59.99|\n",
      "|           19|                 1014|       4|        199.92| 49.98|\n",
      "|           20|                  502|       1|          50.0|  50.0|\n",
      "|           21|                  191|       2|        199.98| 99.99|\n",
      "+-------------+---------------------+--------+--------------+------+\n",
      "only showing top 20 rows\n",
      "\n"
     ]
    }
   ],
   "source": [
    "order_items_temp.show()"
   ]
  },
  {
   "cell_type": "code",
   "execution_count": 27,
   "metadata": {},
   "outputs": [],
   "source": [
    "df=order_items_temp.\\\n",
    "    groupBy(col(\"order_item_product_id\")).\\\n",
    "        agg(round(sum(col(\"order_subtotal\")),2).alias(\"grouped_subtotal\"))"
   ]
  },
  {
   "cell_type": "code",
   "execution_count": 28,
   "metadata": {},
   "outputs": [
    {
     "name": "stdout",
     "output_type": "stream",
     "text": [
      "+---------------------+----------------+\n",
      "|order_item_product_id|grouped_subtotal|\n",
      "+---------------------+----------------+\n",
      "|1073                 |2799.86         |\n",
      "|502                  |1800.0          |\n",
      "|403                  |1429.89         |\n",
      "|897                  |124.95          |\n",
      "|365                  |2519.58         |\n",
      "|1014                 |1899.24         |\n",
      "|957                  |2999.8          |\n",
      "|926                  |79.95           |\n",
      "|191                  |2099.79         |\n",
      "|917                  |21.99           |\n",
      "|627                  |319.92          |\n",
      "|134                  |100.0           |\n",
      "|276                  |255.92          |\n",
      "|1004                 |2799.86         |\n",
      "|828                  |95.97           |\n",
      "|810                  |79.96           |\n",
      "|93                   |74.97           |\n",
      "|37                   |69.98           |\n",
      "|906                  |99.96           |\n",
      "+---------------------+----------------+\n",
      "\n"
     ]
    }
   ],
   "source": [
    "df.show(truncate=False)"
   ]
  },
  {
   "cell_type": "code",
   "execution_count": 33,
   "metadata": {},
   "outputs": [],
   "source": [
    "from pyspark.sql.window import Window"
   ]
  },
  {
   "cell_type": "code",
   "execution_count": 34,
   "metadata": {},
   "outputs": [],
   "source": [
    "# window_spec=Window.partitionBy(col(\"order_item_product_id\")).orderBy(col(\"order_item_id\").desc())"
   ]
  },
  {
   "cell_type": "code",
   "execution_count": 35,
   "metadata": {},
   "outputs": [],
   "source": [
    "# window_spec = Window.partitionBy(col(\"order_item_product_id\")) \\\n",
    "#                     .orderBy(col(\"order_item_id\").desc()) \\\n",
    "#                     .rowsBetween(Window.unboundedPreceding, Window.currentRow)"
   ]
  },
  {
   "cell_type": "code",
   "execution_count": null,
   "metadata": {},
   "outputs": [],
   "source": []
  },
  {
   "cell_type": "code",
   "execution_count": 39,
   "metadata": {},
   "outputs": [],
   "source": [
    "# window_spec = Window.partitionBy(col(\"order_item_product_id\")) \\\n",
    "#                     .orderBy(col(\"order_item_id\").desc()) \\\n",
    "#                     .rowsBetween(-2, Window.currentRow)"
   ]
  },
  {
   "cell_type": "code",
   "execution_count": 57,
   "metadata": {},
   "outputs": [],
   "source": [
    "window_spec = Window.partitionBy(col(\"order_item_product_id\")) \\\n",
    "                    .orderBy(col(\"order_item_id\").desc()) \\\n",
    "                    .rowsBetween(Window.currentRow,3)"
   ]
  },
  {
   "cell_type": "code",
   "execution_count": 58,
   "metadata": {},
   "outputs": [
    {
     "name": "stdout",
     "output_type": "stream",
     "text": [
      "+-------------+-------------------+---------------------+--------+--------------+-----+-----------------+\n",
      "|order_item_id|order_item_order_id|order_item_product_id|quantity|order_subtotal|price|      rolling_sum|\n",
      "+-------------+-------------------+---------------------+--------+--------------+-----+-----------------+\n",
      "|         7093|               2824|                   37|       2|         69.98|34.99|           314.91|\n",
      "|         6518|               2599|                   37|       2|         69.98|34.99|            349.9|\n",
      "|         6492|               2592|                   37|       3|        104.97|34.99|           419.88|\n",
      "|         5795|               2318|                   37|       2|         69.98|34.99|           454.87|\n",
      "|         4169|               1676|                   37|       3|        104.97|34.99|559.8399999999999|\n",
      "|         3932|               1574|                   37|       4|        139.96|34.99|           524.85|\n",
      "|         2859|               1154|                   37|       4|        139.96|34.99|           384.89|\n",
      "|         2765|               1112|                   37|       5|        174.95|34.99|           244.93|\n",
      "|           66|                 21|                   37|       2|         69.98|34.99|            69.98|\n",
      "|       144295|              57681|                   44|       3|        179.97|59.99|           539.91|\n",
      "|       143483|              57363|                   44|       1|         59.99|59.99|            599.9|\n",
      "|       143473|              57359|                   44|       4|        239.96|59.99|            599.9|\n",
      "|       143382|              57318|                   44|       1|         59.99|59.99|            599.9|\n",
      "|       142854|              57113|                   44|       4|        239.96|59.99|839.8599999999999|\n",
      "|       142585|              57008|                   44|       1|         59.99|59.99|           839.86|\n",
      "|       142269|              56880|                   44|       4|        239.96|59.99|          1019.83|\n",
      "|       141889|              56732|                   44|       5|        299.95|59.99|           959.84|\n",
      "|       141392|              56529|                   44|       4|        239.96|59.99|           779.87|\n",
      "|       141387|              56527|                   44|       4|        239.96|59.99|839.8599999999999|\n",
      "|       141160|              56437|                   44|       3|        179.97|59.99|899.8499999999999|\n",
      "+-------------+-------------------+---------------------+--------+--------------+-----+-----------------+\n",
      "only showing top 20 rows\n",
      "\n"
     ]
    }
   ],
   "source": [
    "df_with_window = order_items.withColumn(\"rolling_sum\", sum(\"order_subtotal\").over(window_spec)).offset(456).show()\n"
   ]
  }
 ],
 "metadata": {
  "kernelspec": {
   "display_name": "Python 3",
   "language": "python",
   "name": "python3"
  },
  "language_info": {
   "codemirror_mode": {
    "name": "ipython",
    "version": 3
   },
   "file_extension": ".py",
   "mimetype": "text/x-python",
   "name": "python",
   "nbconvert_exporter": "python",
   "pygments_lexer": "ipython3",
   "version": "3.11.9"
  }
 },
 "nbformat": 4,
 "nbformat_minor": 2
}
