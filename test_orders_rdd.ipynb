{
 "cells": [
  {
   "cell_type": "code",
   "execution_count": null,
   "metadata": {},
   "outputs": [],
   "source": [
    "from pyspark.sql import SparkSession\n",
    "from pyspark.sql.functions import *"
   ]
  },
  {
   "cell_type": "code",
   "execution_count": null,
   "metadata": {},
   "outputs": [],
   "source": [
    "spark=SparkSession.\\\n",
    "    builder.\\\n",
    "        appName(\"RDD\").\\\n",
    "            getOrCreate()"
   ]
  },
  {
   "cell_type": "code",
   "execution_count": null,
   "metadata": {},
   "outputs": [],
   "source": [
    "order_columns=[\"order_id\",\"order_date\",\"order_customer_id\",\"order_status\"]"
   ]
  },
  {
   "cell_type": "code",
   "execution_count": null,
   "metadata": {},
   "outputs": [],
   "source": [
    "orders=spark.read.format(\"csv\").option(\"inferSchema\",\"true\").load(\"/user/sovik/retail_db/orders\")"
   ]
  },
  {
   "cell_type": "code",
   "execution_count": null,
   "metadata": {},
   "outputs": [],
   "source": [
    "orders.show()"
   ]
  },
  {
   "cell_type": "code",
   "execution_count": null,
   "metadata": {},
   "outputs": [],
   "source": [
    "order_df=orders.toDF(*order_columns)"
   ]
  },
  {
   "cell_type": "code",
   "execution_count": null,
   "metadata": {},
   "outputs": [],
   "source": [
    "order_df.show()"
   ]
  },
  {
   "cell_type": "code",
   "execution_count": null,
   "metadata": {},
   "outputs": [],
   "source": [
    "order_df_100=order_df.limit(100)"
   ]
  },
  {
   "cell_type": "code",
   "execution_count": null,
   "metadata": {},
   "outputs": [],
   "source": [
    "order_df_100.count()"
   ]
  },
  {
   "cell_type": "markdown",
   "metadata": {},
   "source": [
    "# Assume we have an RDD containing lines of text\n",
    "lines_rdd = sc.parallelize([\"hello world\", \"foo bar\", \"baz\"])\n",
    "# We want to split each line by space and then count the characters in each word\n",
    "word_count_rdd = lines_rdd.flatMap(lambda line: line.split(\" \")) \\\n",
    "                          .map(lambda word: (word, len(word)))\n",
    "\n",
    "# Now, we have an RDD of (word, word_length) pairs\n",
    "# For example, [('hello', 5), ('world', 5), ('foo', 3), ('bar', 3), ('baz', 3)]"
   ]
  },
  {
   "cell_type": "code",
   "execution_count": null,
   "metadata": {},
   "outputs": [],
   "source": [
    "sc=spark.sparkContext"
   ]
  },
  {
   "cell_type": "code",
   "execution_count": null,
   "metadata": {},
   "outputs": [],
   "source": [
    "lines_rdd = sc.parallelize([\"hello world\", \"foo bar\", \"baz\"])"
   ]
  },
  {
   "cell_type": "code",
   "execution_count": null,
   "metadata": {},
   "outputs": [],
   "source": [
    "words=lines_rdd.flatMap(lambda lines: lines.split(\" \"))"
   ]
  },
  {
   "cell_type": "code",
   "execution_count": null,
   "metadata": {},
   "outputs": [],
   "source": [
    "display(words.collect())"
   ]
  },
  {
   "cell_type": "code",
   "execution_count": null,
   "metadata": {},
   "outputs": [],
   "source": [
    "lines_rdd.getNumPartitions()"
   ]
  },
  {
   "cell_type": "code",
   "execution_count": null,
   "metadata": {},
   "outputs": [],
   "source": [
    "word_count_rdd=lines_rdd.flatMap(lambda line: line.split(\" \")).map(lambda word:(word,len(word)))"
   ]
  },
  {
   "cell_type": "code",
   "execution_count": null,
   "metadata": {},
   "outputs": [],
   "source": [
    "word_pairs_rdd = words_rdd.map(lambda word: (word, 1))"
   ]
  },
  {
   "cell_type": "code",
   "execution_count": null,
   "metadata": {},
   "outputs": [],
   "source": [
    "display(word_count_rdd.collect())"
   ]
  },
  {
   "cell_type": "code",
   "execution_count": null,
   "metadata": {},
   "outputs": [],
   "source": [
    "display(lines_rdd.collect())"
   ]
  },
  {
   "cell_type": "code",
   "execution_count": null,
   "metadata": {},
   "outputs": [],
   "source": [
    "word_total_length_rdd = words.reduceByKey(lambda x, y: x + y)\n",
    "word_lengths_grouped_rdd = words.groupByKey()"
   ]
  },
  {
   "cell_type": "code",
   "execution_count": null,
   "metadata": {},
   "outputs": [],
   "source": [
    "word_total_length_rdd.collect()"
   ]
  },
  {
   "cell_type": "code",
   "execution_count": null,
   "metadata": {},
   "outputs": [],
   "source": [
    "word_lengths_grouped_rdd.collect()"
   ]
  },
  {
   "cell_type": "code",
   "execution_count": null,
   "metadata": {},
   "outputs": [],
   "source": [
    "for word, lengths in word_lengths_grouped_rdd.collect():\n",
    "    print(word, list(lengths))"
   ]
  },
  {
   "cell_type": "code",
   "execution_count": 57,
   "metadata": {},
   "outputs": [
    {
     "name": "stdout",
     "output_type": "stream",
     "text": [
      "hello [1]\n",
      "world [1]\n",
      "foo [1]\n",
      "bar [1, 1]\n",
      "baz [1, 1]\n"
     ]
    }
   ],
   "source": [
    "# Create an RDD from a list of lines\n",
    "lines_rdd = sc.parallelize([\"hello world bar baz\", \"foo bar\", \"baz\"])\n",
    "\n",
    "# Split lines into words\n",
    "words_rdd = lines_rdd.flatMap(lambda line: line.split(\" \"))\n",
    "\n",
    "# Map words to key-value pairs (word, 1)\n",
    "word_pairs_rdd = words_rdd.map(lambda word: (word, 1))\n",
    "\n",
    "# Reduce by key to count occurrences of each word\n",
    "word_counts_rdd = word_pairs_rdd.reduceByKey(lambda x, y: x + y)\n",
    "\n",
    "# Collect and print the word counts\n",
    "# for word, count in word_counts_rdd.collect():\n",
    "#     print(word, count)\n",
    "\n",
    "# Optional: Group words (though reduceByKey is typically more efficient for counting)\n",
    "word_lengths_grouped_rdd = word_pairs_rdd.groupByKey()\n",
    "for word, lengths in word_lengths_grouped_rdd.collect():\n",
    "    print(word, list(lengths))\n"
   ]
  },
  {
   "cell_type": "code",
   "execution_count": 61,
   "metadata": {},
   "outputs": [],
   "source": [
    "nz_business=spark.read.format(\"csv\").option(\"header\",\"true\").option(\"inferschema\",\"true\").load(\"/user/sovik/retail_db/dummy_text.csv\")"
   ]
  },
  {
   "cell_type": "code",
   "execution_count": 62,
   "metadata": {},
   "outputs": [
    {
     "name": "stdout",
     "output_type": "stream",
     "text": [
      "+----+---------------------------+--------------------+--------------------+------------------+-------------+-----------------------------------------------------+---------------------+---------+----------------------------------------------------------------------------------------------------------------+\n",
      "|Year|Industry_aggregation_NZSIOC|Industry_code_NZSIOC|Industry_name_NZSIOC|Units             |Variable_code|Variable_name                                        |Variable_category    |Value    |Industry_code_ANZSIC06                                                                                          |\n",
      "+----+---------------------------+--------------------+--------------------+------------------+-------------+-----------------------------------------------------+---------------------+---------+----------------------------------------------------------------------------------------------------------------+\n",
      "|2021|Level 1                    |99999               |All industries      |Dollars (millions)|H01          |Total income                                         |Financial performance|757,504  |ANZSIC06 divisions A-S (excluding classes K6330, L6711, O7552, O760, O771, O772, S9540, S9601, S9602, and S9603)|\n",
      "|2021|Level 1                    |99999               |All industries      |Dollars (millions)|H04          |Sales, government funding, grants and subsidies      |Financial performance|674,890  |ANZSIC06 divisions A-S (excluding classes K6330, L6711, O7552, O760, O771, O772, S9540, S9601, S9602, and S9603)|\n",
      "|2021|Level 1                    |99999               |All industries      |Dollars (millions)|H05          |Interest, dividends and donations                    |Financial performance|49,593   |ANZSIC06 divisions A-S (excluding classes K6330, L6711, O7552, O760, O771, O772, S9540, S9601, S9602, and S9603)|\n",
      "|2021|Level 1                    |99999               |All industries      |Dollars (millions)|H07          |Non-operating income                                 |Financial performance|33,020   |ANZSIC06 divisions A-S (excluding classes K6330, L6711, O7552, O760, O771, O772, S9540, S9601, S9602, and S9603)|\n",
      "|2021|Level 1                    |99999               |All industries      |Dollars (millions)|H08          |Total expenditure                                    |Financial performance|654,404  |ANZSIC06 divisions A-S (excluding classes K6330, L6711, O7552, O760, O771, O772, S9540, S9601, S9602, and S9603)|\n",
      "|2021|Level 1                    |99999               |All industries      |Dollars (millions)|H09          |Interest and donations                               |Financial performance|26,138   |ANZSIC06 divisions A-S (excluding classes K6330, L6711, O7552, O760, O771, O772, S9540, S9601, S9602, and S9603)|\n",
      "|2021|Level 1                    |99999               |All industries      |Dollars (millions)|H10          |Indirect taxes                                       |Financial performance|6,991    |ANZSIC06 divisions A-S (excluding classes K6330, L6711, O7552, O760, O771, O772, S9540, S9601, S9602, and S9603)|\n",
      "|2021|Level 1                    |99999               |All industries      |Dollars (millions)|H11          |Depreciation                                         |Financial performance|27,801   |ANZSIC06 divisions A-S (excluding classes K6330, L6711, O7552, O760, O771, O772, S9540, S9601, S9602, and S9603)|\n",
      "|2021|Level 1                    |99999               |All industries      |Dollars (millions)|H12          |Salaries and wages paid                              |Financial performance|123,620  |ANZSIC06 divisions A-S (excluding classes K6330, L6711, O7552, O760, O771, O772, S9540, S9601, S9602, and S9603)|\n",
      "|2021|Level 1                    |99999               |All industries      |Dollars (millions)|H13          |Redundancy and severance                             |Financial performance|275      |ANZSIC06 divisions A-S (excluding classes K6330, L6711, O7552, O760, O771, O772, S9540, S9601, S9602, and S9603)|\n",
      "|2021|Level 1                    |99999               |All industries      |Dollars (millions)|H14          |Salaries and wages to self employed commission agents|Financial performance|2,085    |ANZSIC06 divisions A-S (excluding classes K6330, L6711, O7552, O760, O771, O772, S9540, S9601, S9602, and S9603)|\n",
      "|2021|Level 1                    |99999               |All industries      |Dollars (millions)|H19          |Purchases and other operating expenses               |Financial performance|452,963  |ANZSIC06 divisions A-S (excluding classes K6330, L6711, O7552, O760, O771, O772, S9540, S9601, S9602, and S9603)|\n",
      "|2021|Level 1                    |99999               |All industries      |Dollars (millions)|H20          |Non-operating expenses                               |Financial performance|14,806   |ANZSIC06 divisions A-S (excluding classes K6330, L6711, O7552, O760, O771, O772, S9540, S9601, S9602, and S9603)|\n",
      "|2021|Level 1                    |99999               |All industries      |Dollars (millions)|H21          |Opening stocks                                       |Financial performance|68,896   |ANZSIC06 divisions A-S (excluding classes K6330, L6711, O7552, O760, O771, O772, S9540, S9601, S9602, and S9603)|\n",
      "|2021|Level 1                    |99999               |All industries      |Dollars (millions)|H22          |Closing stocks                                       |Financial performance|69,127   |ANZSIC06 divisions A-S (excluding classes K6330, L6711, O7552, O760, O771, O772, S9540, S9601, S9602, and S9603)|\n",
      "|2021|Level 1                    |99999               |All industries      |Dollars (millions)|H23          |Surplus before income tax                            |Financial performance|103,330  |ANZSIC06 divisions A-S (excluding classes K6330, L6711, O7552, O760, O771, O772, S9540, S9601, S9602, and S9603)|\n",
      "|2021|Level 1                    |99999               |All industries      |Dollars (millions)|H24          |Total assets                                         |Financial position   |2,512,677|ANZSIC06 divisions A-S (excluding classes K6330, L6711, O7552, O760, O771, O772, S9540, S9601, S9602, and S9603)|\n",
      "|2021|Level 1                    |99999               |All industries      |Dollars (millions)|H25          |Current assets                                       |Financial position   |730,587  |ANZSIC06 divisions A-S (excluding classes K6330, L6711, O7552, O760, O771, O772, S9540, S9601, S9602, and S9603)|\n",
      "|2021|Level 1                    |99999               |All industries      |Dollars (millions)|H26          |Fixed tangible assets                                |Financial position   |591,351  |ANZSIC06 divisions A-S (excluding classes K6330, L6711, O7552, O760, O771, O772, S9540, S9601, S9602, and S9603)|\n",
      "|2021|Level 1                    |99999               |All industries      |Dollars (millions)|H29          |Other assets                                         |Financial position   |1,190,739|ANZSIC06 divisions A-S (excluding classes K6330, L6711, O7552, O760, O771, O772, S9540, S9601, S9602, and S9603)|\n",
      "+----+---------------------------+--------------------+--------------------+------------------+-------------+-----------------------------------------------------+---------------------+---------+----------------------------------------------------------------------------------------------------------------+\n",
      "only showing top 20 rows\n",
      "\n"
     ]
    }
   ],
   "source": [
    "nz_business.show(truncate=False)"
   ]
  },
  {
   "cell_type": "code",
   "execution_count": 63,
   "metadata": {},
   "outputs": [
    {
     "data": {
      "text/plain": [
       "57"
      ]
     },
     "execution_count": 63,
     "metadata": {},
     "output_type": "execute_result"
    }
   ],
   "source": [
    "nz_business.count()"
   ]
  },
  {
   "cell_type": "code",
   "execution_count": 64,
   "metadata": {},
   "outputs": [],
   "source": [
    "nz_business_rdd=sc.textFile(\"/user/sovik/retail_db/dummy_text.csv\")"
   ]
  },
  {
   "cell_type": "code",
   "execution_count": null,
   "metadata": {},
   "outputs": [],
   "source": [
    "reference_data = {\"Industry_aggregation_NZSIOC\": \"value1\"}"
   ]
  },
  {
   "cell_type": "markdown",
   "metadata": {},
   "source": [
    "##Accumulator"
   ]
  },
  {
   "cell_type": "code",
   "execution_count": 67,
   "metadata": {},
   "outputs": [
    {
     "name": "stdout",
     "output_type": "stream",
     "text": [
      "Number of lines containing 'hello': 2 n foo: 2\n"
     ]
    }
   ],
   "source": [
    "accumulator_hello = sc.accumulator(0)\n",
    "accumulator_foo = sc.accumulator(0)\n",
    "\n",
    "lines_rdd = sc.parallelize([\"hello world\", \"foo bar\", \"hello foo\", \"baz\"])\n",
    "\n",
    "def count_hello_n_foo(line):\n",
    "    global accumulator_hello,accumulator_foo\n",
    "    if \"hello\" in line:\n",
    "        accumulator_hello += 1\n",
    "    if \"foo\" in line:\n",
    "        accumulator_foo+=1\n",
    "    \n",
    "\n",
    "# Apply the function to each line\n",
    "lines_rdd.foreach(count_hello_n_foo)\n",
    "\n",
    "# After the action, we can access the value of the accumulator\n",
    "print(f\"Number of lines containing 'hello': {accumulator_hello.value} n foo: {accumulator_foo.value}\")"
   ]
  },
  {
   "cell_type": "markdown",
   "metadata": {},
   "source": [
    "##BroadCast"
   ]
  },
  {
   "cell_type": "code",
   "execution_count": 68,
   "metadata": {},
   "outputs": [
    {
     "name": "stdout",
     "output_type": "stream",
     "text": [
      "['HELLO world', 'FOO BAR', 'HELLO FOO', 'baz']\n"
     ]
    }
   ],
   "source": [
    "lookup_table = {\"foo\": \"FOO\", \"bar\": \"BAR\", \"hello\": \"HELLO\"}\n",
    "broadcast_var = sc.broadcast(lookup_table)\n",
    "\n",
    "def replace_words(line):\n",
    "    words = line.split()\n",
    "    return \" \".join([broadcast_var.value.get(word, word) for word in words])\n",
    "\n",
    "# Apply the function to each line and collect the results\n",
    "transformed_lines_rdd = lines_rdd.map(replace_words)\n",
    "print(transformed_lines_rdd.collect())"
   ]
  }
 ],
 "metadata": {
  "kernelspec": {
   "display_name": "Python 3",
   "language": "python",
   "name": "python3"
  },
  "language_info": {
   "codemirror_mode": {
    "name": "ipython",
    "version": 3
   },
   "file_extension": ".py",
   "mimetype": "text/x-python",
   "name": "python",
   "nbconvert_exporter": "python",
   "pygments_lexer": "ipython3",
   "version": "3.11.9"
  }
 },
 "nbformat": 4,
 "nbformat_minor": 2
}
