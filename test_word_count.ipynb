{
 "cells": [
  {
   "cell_type": "code",
   "execution_count": 11,
   "metadata": {},
   "outputs": [],
   "source": [
    "from pyspark.sql import SparkSession\n",
    "from pyspark.sql.functions import *"
   ]
  },
  {
   "cell_type": "code",
   "execution_count": 3,
   "metadata": {},
   "outputs": [
    {
     "name": "stderr",
     "output_type": "stream",
     "text": [
      "Setting default log level to \"WARN\".\n",
      "To adjust logging level use sc.setLogLevel(newLevel). For SparkR, use setLogLevel(newLevel).\n",
      "24/05/23 13:28:58 INFO SparkEnv: Registering MapOutputTracker\n",
      "24/05/23 13:28:58 INFO SparkEnv: Registering BlockManagerMaster\n",
      "24/05/23 13:28:58 INFO SparkEnv: Registering BlockManagerMasterHeartbeat\n",
      "24/05/23 13:28:58 INFO SparkEnv: Registering OutputCommitCoordinator\n"
     ]
    }
   ],
   "source": [
    "spark=SparkSession.\\\n",
    "    builder.\\\n",
    "        appName(\"Word Count\").\\\n",
    "            getOrCreate()\n",
    "    "
   ]
  },
  {
   "cell_type": "code",
   "execution_count": 6,
   "metadata": {},
   "outputs": [],
   "source": [
    "sc=spark.sparkContext"
   ]
  },
  {
   "cell_type": "code",
   "execution_count": 8,
   "metadata": {},
   "outputs": [],
   "source": [
    "sentence=spark.read.format(\"text\").load(\"/user/sovik/dummy_files/*\")"
   ]
  },
  {
   "cell_type": "code",
   "execution_count": 10,
   "metadata": {},
   "outputs": [
    {
     "name": "stdout",
     "output_type": "stream",
     "text": [
      "+----------------------------------------------------------------------------------------------------------------------------------------------------------------------------------------------------------------------------------------------------------------------------------------------------------------------------------------------------------------------------------------------------------------------------------------------------------------------------------------------------------------------------------------------------------------------------------------------------------------------------------------------------------------------------------------------------------------------------------------------------------------------+\n",
      "|value                                                                                                                                                                                                                                                                                                                                                                                                                                                                                                                                                                                                                                                                                                                                                                 |\n",
      "+----------------------------------------------------------------------------------------------------------------------------------------------------------------------------------------------------------------------------------------------------------------------------------------------------------------------------------------------------------------------------------------------------------------------------------------------------------------------------------------------------------------------------------------------------------------------------------------------------------------------------------------------------------------------------------------------------------------------------------------------------------------------+\n",
      "|                                                                                                                                                                                                                                                                                                                                                                                                                                                                                                                                                                                                                                                                                                                                                                      |\n",
      "|In a lush forest, under the shade of ancient oaks, lived a cunning fox and a vain crow. One sunny morning, the crow perched high on a branch, a piece of delicious cheese clutched in its beak. The fox, his sharp eyes catching sight of the cheese, hatched a clever plan. \"Oh, Crow,\" he called out sweetly, \"how beautiful you are! Your feathers are so glossy, your eyes so bright. Surely, your voice must be the most melodious in all the forest. Won't you sing for me?\" Flattered by the fox's compliments, the crow opened its beak to caw, and down fell the cheese. The fox snapped it up with a grin, leaving the crow to rue its foolish pride. Thus, the fox taught a valuable lesson: beware of those who flatter, for they may have hidden motives.|\n",
      "+----------------------------------------------------------------------------------------------------------------------------------------------------------------------------------------------------------------------------------------------------------------------------------------------------------------------------------------------------------------------------------------------------------------------------------------------------------------------------------------------------------------------------------------------------------------------------------------------------------------------------------------------------------------------------------------------------------------------------------------------------------------------+\n",
      "\n"
     ]
    }
   ],
   "source": [
    "sentence.show(truncate=False)"
   ]
  },
  {
   "cell_type": "code",
   "execution_count": 31,
   "metadata": {},
   "outputs": [],
   "source": [
    "words_unfiltered=sentence.select(split(col(\"value\"),\" \").alias(\"list_of_words\"))"
   ]
  },
  {
   "cell_type": "code",
   "execution_count": 32,
   "metadata": {},
   "outputs": [
    {
     "name": "stdout",
     "output_type": "stream",
     "text": [
      "+-----------------------------------------------------------------------------------------------------------------------------------------------------------------------------------------------------------------------------------------------------------------------------------------------------------------------------------------------------------------------------------------------------------------------------------------------------------------------------------------------------------------------------------------------------------------------------------------------------------------------------------------------------------------------------------------------------------------------------------------------------------------------------------------------------------------------------------------------------------------------------------------------------------------+\n",
      "|list_of_words                                                                                                                                                                                                                                                                                                                                                                                                                                                                                                                                                                                                                                                                                                                                                                                                                                                                                                    |\n",
      "+-----------------------------------------------------------------------------------------------------------------------------------------------------------------------------------------------------------------------------------------------------------------------------------------------------------------------------------------------------------------------------------------------------------------------------------------------------------------------------------------------------------------------------------------------------------------------------------------------------------------------------------------------------------------------------------------------------------------------------------------------------------------------------------------------------------------------------------------------------------------------------------------------------------------+\n",
      "|[]                                                                                                                                                                                                                                                                                                                                                                                                                                                                                                                                                                                                                                                                                                                                                                                                                                                                                                               |\n",
      "|[In, a, lush, forest,, under, the, shade, of, ancient, oaks,, lived, a, cunning, fox, and, a, vain, crow., One, sunny, morning,, the, crow, perched, high, on, a, branch,, a, piece, of, delicious, cheese, clutched, in, its, beak., The, fox,, his, sharp, eyes, catching, sight, of, the, cheese,, hatched, a, clever, plan., \"Oh,, Crow,\", he, called, out, sweetly,, \"how, beautiful, you, are!, Your, feathers, are, so, glossy,, your, eyes, so, bright., Surely,, your, voice, must, be, the, most, melodious, in, all, the, forest., Won't, you, sing, for, me?\", Flattered, by, the, fox's, compliments,, the, crow, opened, its, beak, to, caw,, and, down, fell, the, cheese., The, fox, snapped, it, up, with, a, grin,, leaving, the, crow, to, rue, its, foolish, pride., Thus,, the, fox, taught, a, valuable, lesson:, beware, of, those, who, flatter,, for, they, may, have, hidden, motives.]|\n",
      "+-----------------------------------------------------------------------------------------------------------------------------------------------------------------------------------------------------------------------------------------------------------------------------------------------------------------------------------------------------------------------------------------------------------------------------------------------------------------------------------------------------------------------------------------------------------------------------------------------------------------------------------------------------------------------------------------------------------------------------------------------------------------------------------------------------------------------------------------------------------------------------------------------------------------+\n",
      "\n"
     ]
    }
   ],
   "source": [
    "words_unfiltered.show(truncate=False)"
   ]
  },
  {
   "cell_type": "code",
   "execution_count": 33,
   "metadata": {},
   "outputs": [],
   "source": [
    "words_exploded=words_unfiltered.select(explode(col(\"list_of_words\")).alias(\"exploded_list\"))"
   ]
  },
  {
   "cell_type": "code",
   "execution_count": 34,
   "metadata": {},
   "outputs": [
    {
     "name": "stdout",
     "output_type": "stream",
     "text": [
      "+-------------+\n",
      "|exploded_list|\n",
      "+-------------+\n",
      "|             |\n",
      "|In           |\n",
      "|a            |\n",
      "|lush         |\n",
      "|forest,      |\n",
      "|under        |\n",
      "|the          |\n",
      "|shade        |\n",
      "|of           |\n",
      "|ancient      |\n",
      "|oaks,        |\n",
      "|lived        |\n",
      "|a            |\n",
      "|cunning      |\n",
      "|fox          |\n",
      "|and          |\n",
      "|a            |\n",
      "|vain         |\n",
      "|crow.        |\n",
      "|One          |\n",
      "+-------------+\n",
      "only showing top 20 rows\n",
      "\n"
     ]
    }
   ],
   "source": [
    "words_exploded.show(truncate=False)"
   ]
  },
  {
   "cell_type": "code",
   "execution_count": 35,
   "metadata": {},
   "outputs": [],
   "source": [
    "words_cleansed=words_exploded.select(regexp_extract(col(\"exploded_list\"),\"[a-zA-z]+\",0 ).alias(\"Filtered_words\"))"
   ]
  },
  {
   "cell_type": "code",
   "execution_count": 36,
   "metadata": {},
   "outputs": [
    {
     "name": "stdout",
     "output_type": "stream",
     "text": [
      "+--------------+\n",
      "|Filtered_words|\n",
      "+--------------+\n",
      "|              |\n",
      "|In            |\n",
      "|a             |\n",
      "|lush          |\n",
      "|forest        |\n",
      "|under         |\n",
      "|the           |\n",
      "|shade         |\n",
      "|of            |\n",
      "|ancient       |\n",
      "|oaks          |\n",
      "|lived         |\n",
      "|a             |\n",
      "|cunning       |\n",
      "|fox           |\n",
      "|and           |\n",
      "|a             |\n",
      "|vain          |\n",
      "|crow          |\n",
      "|One           |\n",
      "+--------------+\n",
      "only showing top 20 rows\n",
      "\n"
     ]
    }
   ],
   "source": [
    "words_cleansed.show(truncate=False)"
   ]
  },
  {
   "cell_type": "code",
   "execution_count": 38,
   "metadata": {},
   "outputs": [],
   "source": [
    "#churn out out only valid strings\n",
    "\n",
    "words_cleansed=words_cleansed.filter(col(\"Filtered_words\")!=\"\")"
   ]
  },
  {
   "cell_type": "code",
   "execution_count": 39,
   "metadata": {},
   "outputs": [
    {
     "name": "stdout",
     "output_type": "stream",
     "text": [
      "+--------------+\n",
      "|Filtered_words|\n",
      "+--------------+\n",
      "|In            |\n",
      "|a             |\n",
      "|lush          |\n",
      "|forest        |\n",
      "|under         |\n",
      "|the           |\n",
      "|shade         |\n",
      "|of            |\n",
      "|ancient       |\n",
      "|oaks          |\n",
      "|lived         |\n",
      "|a             |\n",
      "|cunning       |\n",
      "|fox           |\n",
      "|and           |\n",
      "|a             |\n",
      "|vain          |\n",
      "|crow          |\n",
      "|One           |\n",
      "|sunny         |\n",
      "+--------------+\n",
      "only showing top 20 rows\n",
      "\n"
     ]
    }
   ],
   "source": [
    "words_cleansed.show(truncate=False)"
   ]
  },
  {
   "cell_type": "code",
   "execution_count": 46,
   "metadata": {},
   "outputs": [],
   "source": [
    "#count each words\n",
    "\n",
    "words_k_v_pair = words_cleansed.withColumn(\"frequency\", lit(1))"
   ]
  },
  {
   "cell_type": "code",
   "execution_count": 47,
   "metadata": {},
   "outputs": [
    {
     "name": "stdout",
     "output_type": "stream",
     "text": [
      "+--------------+---------+\n",
      "|Filtered_words|frequency|\n",
      "+--------------+---------+\n",
      "|            In|        1|\n",
      "|             a|        1|\n",
      "|          lush|        1|\n",
      "|        forest|        1|\n",
      "|         under|        1|\n",
      "|           the|        1|\n",
      "|         shade|        1|\n",
      "|            of|        1|\n",
      "|       ancient|        1|\n",
      "|          oaks|        1|\n",
      "|         lived|        1|\n",
      "|             a|        1|\n",
      "|       cunning|        1|\n",
      "|           fox|        1|\n",
      "|           and|        1|\n",
      "|             a|        1|\n",
      "|          vain|        1|\n",
      "|          crow|        1|\n",
      "|           One|        1|\n",
      "|         sunny|        1|\n",
      "+--------------+---------+\n",
      "only showing top 20 rows\n",
      "\n"
     ]
    }
   ],
   "source": [
    "words_k_v_pair.show()"
   ]
  },
  {
   "cell_type": "code",
   "execution_count": 49,
   "metadata": {},
   "outputs": [
    {
     "name": "stderr",
     "output_type": "stream",
     "text": [
      "[Stage 16:>                                                         (0 + 1) / 1]\r"
     ]
    },
    {
     "name": "stdout",
     "output_type": "stream",
     "text": [
      "+--------------+-----------+\n",
      "|Filtered_words|total_count|\n",
      "+--------------+-----------+\n",
      "|          Thus|          1|\n",
      "|          must|          1|\n",
      "|           for|          2|\n",
      "|         under|          1|\n",
      "|          they|          1|\n",
      "|       leaving|          1|\n",
      "|            on|          1|\n",
      "|      feathers|          1|\n",
      "|       flatter|          1|\n",
      "|          high|          1|\n",
      "|         lived|          1|\n",
      "|          plan|          1|\n",
      "|            up|          1|\n",
      "|         voice|          1|\n",
      "|           are|          2|\n",
      "|           The|          2|\n",
      "|       ancient|          1|\n",
      "|             a|          8|\n",
      "|        bright|          1|\n",
      "|     Flattered|          1|\n",
      "+--------------+-----------+\n",
      "only showing top 20 rows\n",
      "\n"
     ]
    },
    {
     "name": "stderr",
     "output_type": "stream",
     "text": [
      "                                                                                \r"
     ]
    }
   ],
   "source": [
    "words_k_v_pair.\\\n",
    "    groupBy(col(\"Filtered_words\")).\\\n",
    "        agg(count(col(\"frequency\")).alias(\"total_count\")).\\\n",
    "            show()"
   ]
  },
  {
   "cell_type": "code",
   "execution_count": 50,
   "metadata": {},
   "outputs": [],
   "source": [
    "sc.stop()"
   ]
  }
 ],
 "metadata": {
  "kernelspec": {
   "display_name": "Python 3",
   "language": "python",
   "name": "python3"
  },
  "language_info": {
   "codemirror_mode": {
    "name": "ipython",
    "version": 3
   },
   "file_extension": ".py",
   "mimetype": "text/x-python",
   "name": "python",
   "nbconvert_exporter": "python",
   "pygments_lexer": "ipython3",
   "version": "3.11.9"
  }
 },
 "nbformat": 4,
 "nbformat_minor": 2
}
